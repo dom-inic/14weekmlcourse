{
 "cells": [
  {
   "cell_type": "markdown",
   "metadata": {},
   "source": [
    "# Assignment 5 Hypothesis Testing\n",
    "\n",
    "* In this assignment, you will create confidence intervals and conduct hypothesis tests\n",
    "* You will analyze healthcare data on risk characteristics for low birth weight babies\n",
    "* The data contains demographic data and risk characteristics for 189 mothers, where some of the mothers had low birth weight infants and some did not\n",
    "* The deidentified data were collected at Baystate Medical in Center, Springfield, Mass during 1986. \n",
    "\n",
    "#### Data Variables\n",
    "+ lowbwt: indicator of birth weight less than 2.5 kg. (0=not low birth weight,1= low birth weight)\n",
    "+ age: mother’s age in years\n",
    "+ bwt: babies’ birth weight in grams"
   ]
  },
  {
   "cell_type": "code",
   "execution_count": 1,
   "metadata": {},
   "outputs": [],
   "source": [
    "from IPython.core.interactiveshell import InteractiveShell\n",
    "InteractiveShell.ast_node_interactivity = \"all\"\n",
    "import numpy as np\n",
    "import pandas as pd\n",
    "import matplotlib.pyplot as plt\n",
    "import seaborn as sns"
   ]
  },
  {
   "cell_type": "code",
   "execution_count": 2,
   "metadata": {},
   "outputs": [],
   "source": [
    "# read the data file\n",
    "df = pd.read_csv('bwt.csv')"
   ]
  },
  {
   "cell_type": "code",
   "execution_count": 3,
   "metadata": {},
   "outputs": [
    {
     "data": {
      "text/plain": [
       "Index(['age', 'bwt', 'lowbwt'], dtype='object')"
      ]
     },
     "execution_count": 3,
     "metadata": {},
     "output_type": "execute_result"
    }
   ],
   "source": [
    "# display column names\n",
    "df.columns"
   ]
  },
  {
   "cell_type": "code",
   "execution_count": 4,
   "metadata": {},
   "outputs": [
    {
     "name": "stdout",
     "output_type": "stream",
     "text": [
      "<class 'pandas.core.frame.DataFrame'>\n",
      "RangeIndex: 189 entries, 0 to 188\n",
      "Data columns (total 3 columns):\n",
      " #   Column  Non-Null Count  Dtype\n",
      "---  ------  --------------  -----\n",
      " 0   age     189 non-null    int64\n",
      " 1   bwt     189 non-null    int64\n",
      " 2   lowbwt  189 non-null    int64\n",
      "dtypes: int64(3)\n",
      "memory usage: 4.6 KB\n"
     ]
    }
   ],
   "source": [
    "# display data frame column information\n",
    "df.info()"
   ]
  },
  {
   "cell_type": "code",
   "execution_count": 5,
   "metadata": {},
   "outputs": [
    {
     "data": {
      "text/html": [
       "<div>\n",
       "<style scoped>\n",
       "    .dataframe tbody tr th:only-of-type {\n",
       "        vertical-align: middle;\n",
       "    }\n",
       "\n",
       "    .dataframe tbody tr th {\n",
       "        vertical-align: top;\n",
       "    }\n",
       "\n",
       "    .dataframe thead th {\n",
       "        text-align: right;\n",
       "    }\n",
       "</style>\n",
       "<table border=\"1\" class=\"dataframe\">\n",
       "  <thead>\n",
       "    <tr style=\"text-align: right;\">\n",
       "      <th></th>\n",
       "      <th>age</th>\n",
       "      <th>bwt</th>\n",
       "      <th>lowbwt</th>\n",
       "    </tr>\n",
       "  </thead>\n",
       "  <tbody>\n",
       "    <tr>\n",
       "      <th>0</th>\n",
       "      <td>19</td>\n",
       "      <td>2523</td>\n",
       "      <td>0</td>\n",
       "    </tr>\n",
       "    <tr>\n",
       "      <th>1</th>\n",
       "      <td>33</td>\n",
       "      <td>2551</td>\n",
       "      <td>0</td>\n",
       "    </tr>\n",
       "    <tr>\n",
       "      <th>2</th>\n",
       "      <td>20</td>\n",
       "      <td>2557</td>\n",
       "      <td>0</td>\n",
       "    </tr>\n",
       "    <tr>\n",
       "      <th>3</th>\n",
       "      <td>21</td>\n",
       "      <td>2594</td>\n",
       "      <td>0</td>\n",
       "    </tr>\n",
       "    <tr>\n",
       "      <th>4</th>\n",
       "      <td>18</td>\n",
       "      <td>2600</td>\n",
       "      <td>0</td>\n",
       "    </tr>\n",
       "    <tr>\n",
       "      <th>5</th>\n",
       "      <td>21</td>\n",
       "      <td>2622</td>\n",
       "      <td>0</td>\n",
       "    </tr>\n",
       "    <tr>\n",
       "      <th>6</th>\n",
       "      <td>22</td>\n",
       "      <td>2637</td>\n",
       "      <td>0</td>\n",
       "    </tr>\n",
       "    <tr>\n",
       "      <th>7</th>\n",
       "      <td>17</td>\n",
       "      <td>2637</td>\n",
       "      <td>0</td>\n",
       "    </tr>\n",
       "    <tr>\n",
       "      <th>8</th>\n",
       "      <td>29</td>\n",
       "      <td>2663</td>\n",
       "      <td>0</td>\n",
       "    </tr>\n",
       "    <tr>\n",
       "      <th>9</th>\n",
       "      <td>26</td>\n",
       "      <td>2665</td>\n",
       "      <td>0</td>\n",
       "    </tr>\n",
       "  </tbody>\n",
       "</table>\n",
       "</div>"
      ],
      "text/plain": [
       "   age   bwt  lowbwt\n",
       "0   19  2523       0\n",
       "1   33  2551       0\n",
       "2   20  2557       0\n",
       "3   21  2594       0\n",
       "4   18  2600       0\n",
       "5   21  2622       0\n",
       "6   22  2637       0\n",
       "7   17  2637       0\n",
       "8   29  2663       0\n",
       "9   26  2665       0"
      ]
     },
     "execution_count": 5,
     "metadata": {},
     "output_type": "execute_result"
    }
   ],
   "source": [
    "# display the head of the data\n",
    "df.head(10)"
   ]
  },
  {
   "cell_type": "markdown",
   "metadata": {},
   "source": [
    "# Data Visualization (missing data, outliers, distribution )"
   ]
  },
  {
   "cell_type": "code",
   "execution_count": 6,
   "metadata": {},
   "outputs": [
    {
     "data": {
      "image/png": "[encoded data removed]",
      "text/plain": [
       "<Figure size 432x288 with 1 Axes>"
      ]
     },
     "metadata": {
      "needs_background": "light"
     },
     "output_type": "display_data"
    }
   ],
   "source": [
    "# check for missing data for all columns\n",
    "# no missing data\n",
    "df.count()\n",
    "\n",
    "# using seaborn heatmap to check for missing data\n",
    "sns.heatmap(df.isnull(), cbar=False);"
   ]
  },
  {
   "cell_type": "code",
   "execution_count": 7,
   "metadata": {},
   "outputs": [
    {
     "data": {
      "text/html": [
       "<div>\n",
       "<style scoped>\n",
       "    .dataframe tbody tr th:only-of-type {\n",
       "        vertical-align: middle;\n",
       "    }\n",
       "\n",
       "    .dataframe tbody tr th {\n",
       "        vertical-align: top;\n",
       "    }\n",
       "\n",
       "    .dataframe thead th {\n",
       "        text-align: right;\n",
       "    }\n",
       "</style>\n",
       "<table border=\"1\" class=\"dataframe\">\n",
       "  <thead>\n",
       "    <tr style=\"text-align: right;\">\n",
       "      <th></th>\n",
       "      <th>age</th>\n",
       "      <th>bwt</th>\n",
       "      <th>lowbwt</th>\n",
       "    </tr>\n",
       "  </thead>\n",
       "  <tbody>\n",
       "    <tr>\n",
       "      <th>count</th>\n",
       "      <td>189.000000</td>\n",
       "      <td>189.000000</td>\n",
       "      <td>189.000000</td>\n",
       "    </tr>\n",
       "    <tr>\n",
       "      <th>mean</th>\n",
       "      <td>23.238095</td>\n",
       "      <td>2944.587302</td>\n",
       "      <td>0.312169</td>\n",
       "    </tr>\n",
       "    <tr>\n",
       "      <th>std</th>\n",
       "      <td>5.298678</td>\n",
       "      <td>729.214295</td>\n",
       "      <td>0.464609</td>\n",
       "    </tr>\n",
       "    <tr>\n",
       "      <th>min</th>\n",
       "      <td>14.000000</td>\n",
       "      <td>709.000000</td>\n",
       "      <td>0.000000</td>\n",
       "    </tr>\n",
       "    <tr>\n",
       "      <th>25%</th>\n",
       "      <td>19.000000</td>\n",
       "      <td>2414.000000</td>\n",
       "      <td>0.000000</td>\n",
       "    </tr>\n",
       "    <tr>\n",
       "      <th>50%</th>\n",
       "      <td>23.000000</td>\n",
       "      <td>2977.000000</td>\n",
       "      <td>0.000000</td>\n",
       "    </tr>\n",
       "    <tr>\n",
       "      <th>75%</th>\n",
       "      <td>26.000000</td>\n",
       "      <td>3487.000000</td>\n",
       "      <td>1.000000</td>\n",
       "    </tr>\n",
       "    <tr>\n",
       "      <th>max</th>\n",
       "      <td>45.000000</td>\n",
       "      <td>4990.000000</td>\n",
       "      <td>1.000000</td>\n",
       "    </tr>\n",
       "  </tbody>\n",
       "</table>\n",
       "</div>"
      ],
      "text/plain": [
       "              age          bwt      lowbwt\n",
       "count  189.000000   189.000000  189.000000\n",
       "mean    23.238095  2944.587302    0.312169\n",
       "std      5.298678   729.214295    0.464609\n",
       "min     14.000000   709.000000    0.000000\n",
       "25%     19.000000  2414.000000    0.000000\n",
       "50%     23.000000  2977.000000    0.000000\n",
       "75%     26.000000  3487.000000    1.000000\n",
       "max     45.000000  4990.000000    1.000000"
      ]
     },
     "execution_count": 7,
     "metadata": {},
     "output_type": "execute_result"
    }
   ],
   "source": [
    "# Generate descriptive statistics for all the data\n",
    "df.describe()"
   ]
  },
  {
   "cell_type": "code",
   "execution_count": 8,
   "metadata": {},
   "outputs": [
    {
     "data": {
      "text/plain": [
       "0    130\n",
       "1     59\n",
       "Name: lowbwt, dtype: int64"
      ]
     },
     "execution_count": 8,
     "metadata": {},
     "output_type": "execute_result"
    }
   ],
   "source": [
    "# print the value counts for lowbwt\n",
    "df.lowbwt.value_counts()\n",
    "# 139 not low births and 59 lowbirths"
   ]
  },
  {
   "cell_type": "code",
   "execution_count": 9,
   "metadata": {},
   "outputs": [
    {
     "data": {
      "image/png": "[encoded data removed]",
      "text/plain": [
       "<Figure size 432x288 with 1 Axes>"
      ]
     },
     "metadata": {
      "needs_background": "light"
     },
     "output_type": "display_data"
    }
   ],
   "source": [
    "#  create a Seaborn histogram of age with a title & x and y labels\n",
    "ax = sns.histplot(df['age']);\n",
    "ax.set(title='Hist plot for age',xlabel='Age',ylabel='Frequency');"
   ]
  },
  {
   "cell_type": "code",
   "execution_count": 10,
   "metadata": {},
   "outputs": [
    {
     "data": {
      "text/plain": [
       "<AxesSubplot:>"
      ]
     },
     "execution_count": 10,
     "metadata": {},
     "output_type": "execute_result"
    },
    {
     "data": {
      "image/png": "[encoded data removed]",
      "text/plain": [
       "<Figure size 432x288 with 1 Axes>"
      ]
     },
     "metadata": {
      "needs_background": "light"
     },
     "output_type": "display_data"
    }
   ],
   "source": [
    "# create a boxplot for birthweight\n",
    "\n",
    "df.boxplot(column = 'bwt', vert = False, widths = 0.5)"
   ]
  },
  {
   "cell_type": "code",
   "execution_count": 11,
   "metadata": {},
   "outputs": [
    {
     "name": "stdout",
     "output_type": "stream",
     "text": [
      "tukey_indices =  [130]\n",
      "tukey_values=  [709]\n"
     ]
    }
   ],
   "source": [
    "# Analysis: type in answers\n",
    "# State the range of the ages of the mothers? \n",
    "## the range of the mothers age is 31\n",
    "# State the range of the babies' birth weight in grams? \n",
    "## the range is 4281\n",
    "# How many observations are in the data set?\n",
    "## 189 observations\n",
    "# How many women had low birth weight babies?\n",
    "## 59 women had low births\n",
    "# Does the age data have a right or left skew? \n",
    "## right skew, slops to the right\n",
    "# Are there outliers on the birthweight boxplot? If yes, then how many? \n",
    "## Yes \n",
    "# Tukey Outliers\n",
    "def myfunction(x):\n",
    "    q1 = np.percentile(x,25)\n",
    "    q3 =   np. percentile (x,75)\n",
    "    iqr   = q3 - q1\n",
    "    floor = q1 - 1.5* iqr\n",
    "    ceiling   =   q3   +   1.5*iqr\n",
    "    \n",
    "    outlier_indices   =   list(x. index [( x   <   floor) |( x   >   ceiling )]) \n",
    "    outlier_values   =   list(x[ outlier_indices ])\n",
    "\n",
    "    return outlier_indices , outlier_values\n",
    "\n",
    "tukey_indices , tukey_values = myfunction(df.bwt)\n",
    "\n",
    "# Print the outliers\n",
    "print('tukey_indices = ',tukey_indices)\n",
    "print('tukey_values= ',tukey_values)\n"
   ]
  },
  {
   "cell_type": "code",
   "execution_count": 12,
   "metadata": {},
   "outputs": [
    {
     "data": {
      "image/png": "[encoded data removed]",
      "text/plain": [
       "<Figure size 432x288 with 1 Axes>"
      ]
     },
     "metadata": {
      "needs_background": "light"
     },
     "output_type": "display_data"
    }
   ],
   "source": [
    "# create a Seaborn countplot of lowbwt, with a title & x and y labels\n",
    "sns.countplot(x=\"lowbwt\", data=df)\n",
    "plt.title('Low birth weights');"
   ]
  },
  {
   "cell_type": "code",
   "execution_count": 13,
   "metadata": {},
   "outputs": [
    {
     "name": "stdout",
     "output_type": "stream",
     "text": [
      "mean =  2944.59\n",
      "sem =  53.0425\n",
      "For 95% CI =( 2840.627 , 3048.553 )\n"
     ]
    }
   ],
   "source": [
    "# Confidence interval\n",
    "# Construct a 95% Confidence interval at alpha = 0.05\n",
    "# We want to know if there is evidence that the mean bwt is different from 2600 grams?\n",
    "# Ho: mean bwt = 2600 grams \n",
    "# H1: mean bwt <> 2600 grams\n",
    "\n",
    "import scipy.stats as stats  \n",
    "bwtmean = round(np.mean(df.bwt),2) \n",
    "sem = round(stats.sem(df.bwt),4)\n",
    " \n",
    "print('mean = ',bwtmean)\n",
    "print('sem = ',sem)\n",
    "\n",
    "lb = round(bwtmean - (1.96 * sem),3)\n",
    "ub  = round(bwtmean + (1.96 * sem),3)\n",
    "\n",
    "print('For 95% CI =(',lb,',',ub,')')"
   ]
  },
  {
   "cell_type": "code",
   "execution_count": 14,
   "metadata": {},
   "outputs": [],
   "source": [
    "# Analysis: Complete this sentence for the confidence interval: \n",
    "# We ___reject____the null hypothesis because the confidence interval ___does not______  contain 2600 grams.\n",
    "# We conclude there is evidence that the mean bwt ______is different from____________ 2600 grams."
   ]
  },
  {
   "cell_type": "code",
   "execution_count": 15,
   "metadata": {},
   "outputs": [
    {
     "name": "stdout",
     "output_type": "stream",
     "text": [
      "one sample t-test= Ttest_1sampResult(statistic=-43.48973366289455, pvalue=4.678881937408121e-100)\n"
     ]
    }
   ],
   "source": [
    "# T-test: for alpha = 0.05, conduct a T-test for these hypotheses and display the results.\n",
    "# Ho: mean age = 40 years \n",
    "# H1: mean age <> 40 years\n",
    "res = stats.ttest_1samp(df.age,40)\n",
    "print('one sample t-test=',res)"
   ]
  },
  {
   "cell_type": "code",
   "execution_count": 16,
   "metadata": {},
   "outputs": [],
   "source": [
    "# Analysis: For the t-test, complete this sentence\n",
    "# Because p __<___ alpha, we ____reject__ the null hypothesis \n",
    "# and conclude the mean age for mothers _____different_____than 40 years"
   ]
  },
  {
   "cell_type": "code",
   "execution_count": null,
   "metadata": {},
   "outputs": [],
   "source": []
  }
 ],
 "metadata": {
  "kernelspec": {
   "display_name": "Python 3",
   "language": "python",
   "name": "python3"
  },
  "language_info": {
   "codemirror_mode": {
    "name": "ipython",
    "version": 3
   },
   "file_extension": ".py",
   "mimetype": "text/x-python",
   "name": "python",
   "nbconvert_exporter": "python",
   "pygments_lexer": "ipython3",
   "version": "3.8.10"
  },
  "varInspector": {
   "cols": {
    "lenName": 16,
    "lenType": 16,
    "lenVar": 40
   },
   "kernels_config": {
    "python": {
     "delete_cmd_postfix": "",
     "delete_cmd_prefix": "del ",
     "library": "var_list.py",
     "varRefreshCmd": "print(var_dic_list())"
    },
    "r": {
     "delete_cmd_postfix": ") ",
     "delete_cmd_prefix": "rm(",
     "library": "var_list.r",
     "varRefreshCmd": "cat(var_dic_list()) "
    }
   },
   "types_to_exclude": [
    "module",
    "function",
    "builtin_function_or_method",
    "instance",
    "_Feature"
   ],
   "window_display": false
  }
 },
 "nbformat": 4,
 "nbformat_minor": 4
}
