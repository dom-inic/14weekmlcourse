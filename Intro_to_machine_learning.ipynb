{
 "cells": [
  {
   "cell_type": "markdown",
   "id": "8d7db6e8",
   "metadata": {},
   "source": [
    "Name: Dominic Nyambane \n",
    "career: ML Entusiast \n",
    "\n",
    "\n",
    "\n",
    "# Artificial Intelligence\n",
    "what is artificial Intelligence? \n",
    "“The science and engineering of making intelligent machines, especially intelligent computer programs”. -John McCarthy-\n",
    "\n",
    "Artificial Intelligence is an approach to make a computer, a robot, or a product to think how smart human think\n",
    "\n",
    "\n",
    "# Applications of AI\n",
    "\n",
    "· Gaming − AI plays important role for machine to think of large number of possible positions based on deep knowledge in strategic games. for example, chess,river crossing, N-queens problems and etc.\n",
    "\n",
    "· Natural Language Processing − Interact with the computer that understands natural language spoken by humans.\n",
    "\n",
    "· Expert Systems − Machine or software provide explanation and advice to the users.\n",
    "\n",
    "· Vision Systems − Systems understand, explain, and describe visual input on the computer.\n",
    "\n",
    "· Speech Recognition − There are some AI based speech recognition systems have ability to hear and express as sentences and understand their meanings while a person talks to it. For example Siri and Google assistant.\n",
    "\n",
    "· Handwriting Recognition − The handwriting recognition software reads the text written on paper and recognize the shapes of the letters and convert it into editable text.\n",
    "\n",
    "· Intelligent Robots − Robots are able to perform the instructions given by a human.\n",
    "\n",
    "What is Intelligence Composed of??\n",
    "Research in AI has focussed chiefly on the following components of intelligence: learning, reasoning, problem-solving, perception, and language-understanding.\n",
    "\n",
    "\n",
    "types of AI\n",
    "\n",
    "Reactive machines. Reactive machines are the most basic types of AI systems that perceive the world directly and act on what it sees examples include machine learning. \n",
    "\n",
    "Limited Memory - ability to store previous data and/or predictions, using that data to make better predictions examples include three types of machine that is reinforcement learning, lstms, Evolutionary Generative Adversarial Networks (artificial narrow intelligence)\n",
    "\n",
    "Theory of mind/ artificial general intelligence. such as self driving cars\n",
    "Self-aware. the kinds of science fiction movies also reffered to as artificial super intelligence\n",
    "\n",
    "# Machine Learning\n",
    "\n",
    "machine learning is a set of tools that allows us to teach computers how to perform tasks by providing examples of how they should be done. example in spam email detection.\n",
    "\n",
    "how it works - scenario You ask your cousin how he's predicted real estate values in the past, and he says it is just intuition. But more questioning reveals that he's identified price patterns from houses he has seen in the past, and he uses those patterns to make predictions for new houses he is considering.\n",
    "\n",
    "decision tree examples using number of bedrooms\n",
    "\n",
    "Types of machine learning \n",
    "1. supervised machine learning - training data is labeled e.g spam or ham. two common types of supervised include classification and regression \n",
    "\n",
    "2. unsupervised learning - in this case we are given a collection of unlabeled data which we wish to analyze and discover data within.. types include dimension reduction and clustering\n",
    "\n",
    "3. Reinforcement Learning - an agent seeks to learn the optimal actions to take based the outcomes of past actions.\n",
    "\n",
    "more types\n",
    "4. semi-supervised learning - only a subset of training data is labeled\n",
    "5. time-series forecasting - such as in financial markets and covid forecating\n",
    "6. active learning - an algorithm must determine which training data to acquire. \n",
    "\n"
   ]
  },
  {
   "cell_type": "markdown",
   "id": "9b0049dd",
   "metadata": {},
   "source": [
    "# Data Explorations \n",
    "python\n",
    "pandas used for exploring and manipulating data \n",
    "seaborn visualizations \n",
    "matplotlib visualizations of data \n",
    "scipy contains modules for calculations such as linear algebra\n",
    "\n",
    "common problems in ml models - overfitting and underfitting after building your first model\n",
    "\n",
    "overfitting -  model matches the training data almost perfectly, but does poorly in validation and other new data.\n",
    "underfitting - When a model fails to capture important distinctions and patterns in the data, so it performs poorly even in training data\n",
    "\n",
    "use of MAE error to fix the above\n",
    "\n",
    "lets get started "
   ]
  },
  {
   "cell_type": "code",
   "execution_count": 1,
   "id": "0d0077f4",
   "metadata": {},
   "outputs": [],
   "source": [
    "# import necessary modules\n",
    "\n",
    "from IPython.core.interactiveshell import InteractiveShell\n",
    "InteractiveShell.ast_node_interactivity = \"all\"\n",
    "\n",
    "import os\n",
    "import numpy as np\n",
    "import pandas as pd\n",
    "import matplotlib.pyplot as plt\n",
    "import seaborn as sns\n",
    "from   scipy   import   stats"
   ]
  },
  {
   "cell_type": "code",
   "execution_count": null,
   "id": "e7d4ebd5",
   "metadata": {},
   "outputs": [],
   "source": [
    "pip install numpy pandas matplotlib seaborn scipy"
   ]
  }
 ],
 "metadata": {
  "kernelspec": {
   "display_name": "Python 3 (ipykernel)",
   "language": "python",
   "name": "python3"
  },
  "language_info": {
   "codemirror_mode": {
    "name": "ipython",
    "version": 3
   },
   "file_extension": ".py",
   "mimetype": "text/x-python",
   "name": "python",
   "nbconvert_exporter": "python",
   "pygments_lexer": "ipython3",
   "version": "3.8.2"
  }
 },
 "nbformat": 4,
 "nbformat_minor": 5
}
