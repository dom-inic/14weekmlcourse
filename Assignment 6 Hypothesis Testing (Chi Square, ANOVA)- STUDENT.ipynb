{
 "cells": [
  {
   "cell_type": "markdown",
   "id": "e3dfefec",
   "metadata": {},
   "source": [
    "# Assignment 6 Hypothesis Testing (Chi Square)"
   ]
  },
  {
   "cell_type": "code",
   "execution_count": 1,
   "id": "8c61344f",
   "metadata": {},
   "outputs": [],
   "source": [
    "from IPython.core.interactiveshell import InteractiveShell\n",
    "InteractiveShell.ast_node_interactivity = \"all\"\n",
    "\n",
    "import os\n",
    "import numpy as np\n",
    "import pandas as pd\n",
    "import matplotlib.pyplot as plt\n",
    "import seaborn as sns\n",
    "\n",
    "from   scipy   import   stats\n",
    "from scipy.stats import ttest_1samp"
   ]
  },
  {
   "cell_type": "markdown",
   "id": "c3d2c206",
   "metadata": {},
   "source": [
    "# Two Tailed T-test"
   ]
  },
  {
   "cell_type": "code",
   "execution_count": 24,
   "id": "bfd0db97",
   "metadata": {},
   "outputs": [
    {
     "name": "stdout",
     "output_type": "stream",
     "text": [
      "<class 'pandas.core.frame.DataFrame'>\n",
      "RangeIndex: 507 entries, 0 to 506\n",
      "Data columns (total 4 columns):\n",
      " #   Column  Non-Null Count  Dtype  \n",
      "---  ------  --------------  -----  \n",
      " 0   age     507 non-null    int64  \n",
      " 1   wgt     507 non-null    float64\n",
      " 2   hgt     507 non-null    float64\n",
      " 3   sex     507 non-null    int64  \n",
      "dtypes: float64(2), int64(2)\n",
      "memory usage: 16.0 KB\n"
     ]
    }
   ],
   "source": [
    "# read the data\n",
    "df = pd.read_csv('demographics.csv')\n",
    "df.info()"
   ]
  },
  {
   "cell_type": "code",
   "execution_count": 25,
   "id": "adb948d5",
   "metadata": {},
   "outputs": [
    {
     "data": {
      "text/plain": [
       "count    507.000000\n",
       "mean      30.181460\n",
       "std        9.608472\n",
       "min       18.000000\n",
       "25%       23.000000\n",
       "50%       27.000000\n",
       "75%       36.000000\n",
       "max       67.000000\n",
       "Name: age, dtype: float64"
      ]
     },
     "execution_count": 25,
     "metadata": {},
     "output_type": "execute_result"
    }
   ],
   "source": [
    "# describe the age column\n",
    "df['age'].describe()"
   ]
  },
  {
   "cell_type": "code",
   "execution_count": 26,
   "id": "59d167c7",
   "metadata": {},
   "outputs": [
    {
     "name": "stdout",
     "output_type": "stream",
     "text": [
      "mean hgt= 171.14\n"
     ]
    }
   ],
   "source": [
    "# calculate and display the mean hgt\n",
    "hgt_mean = round( np.mean(df.hgt),2)\n",
    "print('mean hgt=',hgt_mean)"
   ]
  },
  {
   "cell_type": "code",
   "execution_count": 36,
   "id": "eb18fe35",
   "metadata": {},
   "outputs": [
    {
     "name": "stdout",
     "output_type": "stream",
     "text": [
      "Two sample t-test= Ttest_indResult(statistic=1.5621110568329202, pvalue=0.14226851090797327)\n"
     ]
    }
   ],
   "source": [
    "# Conduct a two tailed t-test to determine if the mean hgt differs from 150 at alpha = 0.05,\n",
    "# and print the results\n",
    "# Ho:  mean hgt = 150\n",
    "# H1: mean hgt <> 150\n",
    "\n",
    "\n",
    "# t test\n",
    "hgt1 = df.hgt[0:9]\n",
    "hgt2 = np.array([174.1, 183.0, 165.1, 167.6, 190.5,175.3])\n",
    "\n",
    "res = stats.ttest_ind(hgt1,hgt2)\n",
    "print('Two sample t-test=',res )\n"
   ]
  },
  {
   "cell_type": "code",
   "execution_count": 29,
   "id": "9b1458ee",
   "metadata": {},
   "outputs": [],
   "source": [
    "# Analysis: Complete this sentence\n",
    "# Because p ____<____ alpha, we ___reject_____ the null hypothesis\n",
    "# and conclude that _______there's evidence the mean hgt differs from 150_____________________________"
   ]
  },
  {
   "cell_type": "markdown",
   "id": "41c8b998",
   "metadata": {},
   "source": [
    "# Chi squared Test of Independence"
   ]
  },
  {
   "cell_type": "code",
   "execution_count": 6,
   "id": "49fa3ff8",
   "metadata": {},
   "outputs": [],
   "source": [
    "## Chi: Square Test of Independence, alpha = 0.05\n",
    "from IPython.core.interactiveshell import InteractiveShell\n",
    "InteractiveShell.ast_node_interactivity = \"all\"\n",
    "import pandas as pd\n",
    "import scipy.stats as stats"
   ]
  },
  {
   "cell_type": "code",
   "execution_count": 7,
   "id": "0164d7df",
   "metadata": {},
   "outputs": [],
   "source": [
    "# read the chisqdata\n",
    "df =  pd.read_csv(\"chisqdata2.csv\")"
   ]
  },
  {
   "cell_type": "code",
   "execution_count": 8,
   "id": "6430955b",
   "metadata": {},
   "outputs": [
    {
     "name": "stdout",
     "output_type": "stream",
     "text": [
      "<class 'pandas.core.frame.DataFrame'>\n",
      "RangeIndex: 20 entries, 0 to 19\n",
      "Data columns (total 3 columns):\n",
      " #   Column        Non-Null Count  Dtype \n",
      "---  ------        --------------  ----- \n",
      " 0   gender        20 non-null     object\n",
      " 1   exercisewkly  20 non-null     object\n",
      " 2   group         20 non-null     object\n",
      "dtypes: object(3)\n",
      "memory usage: 608.0+ bytes\n"
     ]
    }
   ],
   "source": [
    "# display data information\n",
    "df.info()"
   ]
  },
  {
   "cell_type": "code",
   "execution_count": 9,
   "id": "b030f8d9",
   "metadata": {},
   "outputs": [
    {
     "data": {
      "text/html": [
       "<div>\n",
       "<style scoped>\n",
       "    .dataframe tbody tr th:only-of-type {\n",
       "        vertical-align: middle;\n",
       "    }\n",
       "\n",
       "    .dataframe tbody tr th {\n",
       "        vertical-align: top;\n",
       "    }\n",
       "\n",
       "    .dataframe thead th {\n",
       "        text-align: right;\n",
       "    }\n",
       "</style>\n",
       "<table border=\"1\" class=\"dataframe\">\n",
       "  <thead>\n",
       "    <tr style=\"text-align: right;\">\n",
       "      <th></th>\n",
       "      <th>gender</th>\n",
       "      <th>exercisewkly</th>\n",
       "      <th>group</th>\n",
       "    </tr>\n",
       "  </thead>\n",
       "  <tbody>\n",
       "    <tr>\n",
       "      <th>0</th>\n",
       "      <td>male</td>\n",
       "      <td>yes</td>\n",
       "      <td>A</td>\n",
       "    </tr>\n",
       "    <tr>\n",
       "      <th>1</th>\n",
       "      <td>female</td>\n",
       "      <td>yes</td>\n",
       "      <td>B</td>\n",
       "    </tr>\n",
       "    <tr>\n",
       "      <th>2</th>\n",
       "      <td>female</td>\n",
       "      <td>no</td>\n",
       "      <td>C</td>\n",
       "    </tr>\n",
       "    <tr>\n",
       "      <th>3</th>\n",
       "      <td>female</td>\n",
       "      <td>no</td>\n",
       "      <td>D</td>\n",
       "    </tr>\n",
       "    <tr>\n",
       "      <th>4</th>\n",
       "      <td>female</td>\n",
       "      <td>no</td>\n",
       "      <td>B</td>\n",
       "    </tr>\n",
       "    <tr>\n",
       "      <th>5</th>\n",
       "      <td>female</td>\n",
       "      <td>yes</td>\n",
       "      <td>C</td>\n",
       "    </tr>\n",
       "    <tr>\n",
       "      <th>6</th>\n",
       "      <td>female</td>\n",
       "      <td>yes</td>\n",
       "      <td>A</td>\n",
       "    </tr>\n",
       "    <tr>\n",
       "      <th>7</th>\n",
       "      <td>male</td>\n",
       "      <td>yes</td>\n",
       "      <td>B</td>\n",
       "    </tr>\n",
       "    <tr>\n",
       "      <th>8</th>\n",
       "      <td>male</td>\n",
       "      <td>yes</td>\n",
       "      <td>C</td>\n",
       "    </tr>\n",
       "    <tr>\n",
       "      <th>9</th>\n",
       "      <td>male</td>\n",
       "      <td>no</td>\n",
       "      <td>B</td>\n",
       "    </tr>\n",
       "  </tbody>\n",
       "</table>\n",
       "</div>"
      ],
      "text/plain": [
       "   gender exercisewkly group\n",
       "0    male          yes     A\n",
       "1  female          yes     B\n",
       "2  female           no     C\n",
       "3  female           no     D\n",
       "4  female           no     B\n",
       "5  female          yes     C\n",
       "6  female          yes     A\n",
       "7    male          yes     B\n",
       "8    male          yes     C\n",
       "9    male           no     B"
      ]
     },
     "execution_count": 9,
     "metadata": {},
     "output_type": "execute_result"
    }
   ],
   "source": [
    "# display head of data\n",
    "df.head(10)"
   ]
  },
  {
   "cell_type": "code",
   "execution_count": 10,
   "id": "1fcbcf66",
   "metadata": {},
   "outputs": [
    {
     "data": {
      "text/plain": [
       "<AxesSubplot:xlabel='gender', ylabel='count'>"
      ]
     },
     "execution_count": 10,
     "metadata": {},
     "output_type": "execute_result"
    },
    {
     "data": {
      "text/plain": [
       "Text(0.5, 1.0, 'Gender')"
      ]
     },
     "execution_count": 10,
     "metadata": {},
     "output_type": "execute_result"
    },
    {
     "data": {
      "image/png": "[encoded data removed]",
      "text/plain": [
       "<Figure size 432x288 with 1 Axes>"
      ]
     },
     "metadata": {
      "needs_background": "light"
     },
     "output_type": "display_data"
    }
   ],
   "source": [
    "# create a Seaborn count plot of Gender\n",
    "sns.countplot(x=\"gender\", data=df)\n",
    "plt.title('Gender')"
   ]
  },
  {
   "cell_type": "code",
   "execution_count": 15,
   "id": "5ef00c31",
   "metadata": {},
   "outputs": [
    {
     "data": {
      "text/plain": [
       "<AxesSubplot:xlabel='exercisewkly', ylabel='count'>"
      ]
     },
     "execution_count": 15,
     "metadata": {},
     "output_type": "execute_result"
    },
    {
     "data": {
      "image/png": "[encoded data removed]",
      "text/plain": [
       "<Figure size 432x288 with 1 Axes>"
      ]
     },
     "metadata": {
      "needs_background": "light"
     },
     "output_type": "display_data"
    }
   ],
   "source": [
    "# make a Seaborn bar plot of exercisewkly\n",
    "\n",
    "sns.countplot(x=df.exercisewkly)"
   ]
  },
  {
   "cell_type": "code",
   "execution_count": 16,
   "id": "2d1b41e3",
   "metadata": {},
   "outputs": [
    {
     "data": {
      "text/html": [
       "<div>\n",
       "<style scoped>\n",
       "    .dataframe tbody tr th:only-of-type {\n",
       "        vertical-align: middle;\n",
       "    }\n",
       "\n",
       "    .dataframe tbody tr th {\n",
       "        vertical-align: top;\n",
       "    }\n",
       "\n",
       "    .dataframe thead th {\n",
       "        text-align: right;\n",
       "    }\n",
       "</style>\n",
       "<table border=\"1\" class=\"dataframe\">\n",
       "  <thead>\n",
       "    <tr style=\"text-align: right;\">\n",
       "      <th>exercisewkly</th>\n",
       "      <th>no</th>\n",
       "      <th>yes</th>\n",
       "      <th>Totals</th>\n",
       "    </tr>\n",
       "    <tr>\n",
       "      <th>gender</th>\n",
       "      <th></th>\n",
       "      <th></th>\n",
       "      <th></th>\n",
       "    </tr>\n",
       "  </thead>\n",
       "  <tbody>\n",
       "    <tr>\n",
       "      <th>female</th>\n",
       "      <td>4</td>\n",
       "      <td>9</td>\n",
       "      <td>13</td>\n",
       "    </tr>\n",
       "    <tr>\n",
       "      <th>male</th>\n",
       "      <td>2</td>\n",
       "      <td>5</td>\n",
       "      <td>7</td>\n",
       "    </tr>\n",
       "    <tr>\n",
       "      <th>Totals</th>\n",
       "      <td>6</td>\n",
       "      <td>14</td>\n",
       "      <td>20</td>\n",
       "    </tr>\n",
       "  </tbody>\n",
       "</table>\n",
       "</div>"
      ],
      "text/plain": [
       "exercisewkly  no  yes  Totals\n",
       "gender                       \n",
       "female         4    9      13\n",
       "male           2    5       7\n",
       "Totals         6   14      20"
      ]
     },
     "execution_count": 16,
     "metadata": {},
     "output_type": "execute_result"
    }
   ],
   "source": [
    "# We need a cross table of the counts for gender and exercise weekly\n",
    "# You will use the cross table for the Chi Square test\n",
    "crosstab = pd.crosstab(df.gender,df.exercisewkly,margins=True,margins_name=\"Totals\")\n",
    "crosstab\n"
   ]
  },
  {
   "cell_type": "code",
   "execution_count": 17,
   "id": "5477113f",
   "metadata": {},
   "outputs": [
    {
     "name": "stdout",
     "output_type": "stream",
     "text": [
      "\n",
      " chi square test statistic =  0.0105\n",
      "\n",
      " p-value =  0.99999\n"
     ]
    }
   ],
   "source": [
    "# Conduct the Chi square test on the cross table data (use the variable you saved it in). \n",
    "#  print the Chi square p value\n",
    "# See document for return values\n",
    "# https://docs.scipy.org/doc/scipy/reference/generated/scipy.stats.chi2_contingency.html\n",
    "chi2, p, dof, ex = stats.chi2_contingency(crosstab)\n",
    "\n",
    "print('\\n chi square test statistic = ', round(chi2,4))\n",
    "print('\\n p-value = ',round(p,5))"
   ]
  },
  {
   "cell_type": "code",
   "execution_count": null,
   "id": "07854fbe",
   "metadata": {},
   "outputs": [],
   "source": [
    "# Analysis:  Complete the sentence\n",
    "# Because __>____, we fail to reject the null hypothesis. We conclude that gender\n",
    "# and weekly exercies are ____not related_______"
   ]
  },
  {
   "cell_type": "markdown",
   "id": "dbbbe8cc",
   "metadata": {},
   "source": [
    "# Analysis of Variance (ANOVA) "
   ]
  },
  {
   "cell_type": "code",
   "execution_count": 18,
   "id": "75e8521f",
   "metadata": {},
   "outputs": [
    {
     "name": "stdout",
     "output_type": "stream",
     "text": [
      "<class 'pandas.core.frame.DataFrame'>\n",
      "RangeIndex: 20 entries, 0 to 19\n",
      "Data columns (total 5 columns):\n",
      " #   Column  Non-Null Count  Dtype  \n",
      "---  ------  --------------  -----  \n",
      " 0   age     20 non-null     int64  \n",
      " 1   wgt     20 non-null     float64\n",
      " 2   hgt     20 non-null     float64\n",
      " 3   sex     20 non-null     int64  \n",
      " 4   group   20 non-null     object \n",
      "dtypes: float64(2), int64(2), object(1)\n",
      "memory usage: 928.0+ bytes\n"
     ]
    }
   ],
   "source": [
    "# read the dat\n",
    "df = pd.read_csv('anovadata.csv')\n",
    "df.info()"
   ]
  },
  {
   "cell_type": "code",
   "execution_count": 19,
   "id": "4ccda6a9",
   "metadata": {},
   "outputs": [
    {
     "data": {
      "text/html": [
       "<div>\n",
       "<style scoped>\n",
       "    .dataframe tbody tr th:only-of-type {\n",
       "        vertical-align: middle;\n",
       "    }\n",
       "\n",
       "    .dataframe tbody tr th {\n",
       "        vertical-align: top;\n",
       "    }\n",
       "\n",
       "    .dataframe thead th {\n",
       "        text-align: right;\n",
       "    }\n",
       "</style>\n",
       "<table border=\"1\" class=\"dataframe\">\n",
       "  <thead>\n",
       "    <tr style=\"text-align: right;\">\n",
       "      <th></th>\n",
       "      <th>age</th>\n",
       "      <th>wgt</th>\n",
       "      <th>hgt</th>\n",
       "      <th>sex</th>\n",
       "      <th>group</th>\n",
       "    </tr>\n",
       "  </thead>\n",
       "  <tbody>\n",
       "    <tr>\n",
       "      <th>0</th>\n",
       "      <td>21</td>\n",
       "      <td>65.6</td>\n",
       "      <td>174.0</td>\n",
       "      <td>1</td>\n",
       "      <td>A</td>\n",
       "    </tr>\n",
       "    <tr>\n",
       "      <th>1</th>\n",
       "      <td>23</td>\n",
       "      <td>71.8</td>\n",
       "      <td>175.3</td>\n",
       "      <td>1</td>\n",
       "      <td>B</td>\n",
       "    </tr>\n",
       "    <tr>\n",
       "      <th>2</th>\n",
       "      <td>28</td>\n",
       "      <td>80.7</td>\n",
       "      <td>193.5</td>\n",
       "      <td>1</td>\n",
       "      <td>C</td>\n",
       "    </tr>\n",
       "    <tr>\n",
       "      <th>3</th>\n",
       "      <td>23</td>\n",
       "      <td>72.6</td>\n",
       "      <td>186.5</td>\n",
       "      <td>1</td>\n",
       "      <td>A</td>\n",
       "    </tr>\n",
       "    <tr>\n",
       "      <th>4</th>\n",
       "      <td>22</td>\n",
       "      <td>78.8</td>\n",
       "      <td>187.2</td>\n",
       "      <td>1</td>\n",
       "      <td>A</td>\n",
       "    </tr>\n",
       "  </tbody>\n",
       "</table>\n",
       "</div>"
      ],
      "text/plain": [
       "   age   wgt    hgt  sex group\n",
       "0   21  65.6  174.0    1     A\n",
       "1   23  71.8  175.3    1     B\n",
       "2   28  80.7  193.5    1     C\n",
       "3   23  72.6  186.5    1     A\n",
       "4   22  78.8  187.2    1     A"
      ]
     },
     "execution_count": 19,
     "metadata": {},
     "output_type": "execute_result"
    }
   ],
   "source": [
    "# display the first few records of the data set\n",
    "df.head()"
   ]
  },
  {
   "cell_type": "code",
   "execution_count": 20,
   "id": "acaa751d",
   "metadata": {},
   "outputs": [
    {
     "data": {
      "text/plain": [
       "[Text(0.5, 1.0, 'Wgt and Test Group'),\n",
       " Text(0.5, 0, 'wgt'),\n",
       " Text(0, 0.5, 'Test Group')]"
      ]
     },
     "execution_count": 20,
     "metadata": {},
     "output_type": "execute_result"
    },
    {
     "data": {
      "image/png": "[encoded data removed]",
      "text/plain": [
       "<Figure size 432x288 with 1 Axes>"
      ]
     },
     "metadata": {
      "needs_background": "light"
     },
     "output_type": "display_data"
    }
   ],
   "source": [
    "# create a boxplot for wgt grouped by test group\n",
    "ax = sns.boxplot(x='group', y ='wgt', data=df)\n",
    "ax.set(title='Wgt and Test Group',xlabel='wgt',ylabel='Test Group')"
   ]
  },
  {
   "cell_type": "code",
   "execution_count": 21,
   "id": "7fb1beb5",
   "metadata": {},
   "outputs": [
    {
     "name": "stdout",
     "output_type": "stream",
     "text": [
      "              sum_sq    df        F    PR(>F)\n",
      "group     308.760917   2.0  2.87299  0.084164\n",
      "Residual  913.497083  17.0      NaN       NaN\n"
     ]
    }
   ],
   "source": [
    "# Conduct an ANOVA Test on wgt ~ group\n",
    "# print the ANOVA test model\n",
    "import statsmodels.api as sm\n",
    "from statsmodels.formula.api import ols\n",
    "\n",
    "model = ols(\"wgt ~ group\", data= df).fit()\n",
    "aov_table = sm.stats.anova_lm(model,typ=2)\n",
    "print(aov_table)"
   ]
  },
  {
   "cell_type": "code",
   "execution_count": 22,
   "id": "d7adc9f8",
   "metadata": {},
   "outputs": [
    {
     "data": {
      "text/html": [
       "<table class=\"simpletable\">\n",
       "<caption>Multiple Comparison of Means - Tukey HSD, FWER=0.05</caption>\n",
       "<tr>\n",
       "  <th>group1</th> <th>group2</th> <th>meandiff</th>  <th>p-adj</th>   <th>lower</th>   <th>upper</th>  <th>reject</th>\n",
       "</tr>\n",
       "<tr>\n",
       "     <td>A</td>      <td>B</td>    <td>8.9875</td>  <td>0.0876</td>  <td>-1.1658</td> <td>19.1408</td>  <td>False</td>\n",
       "</tr>\n",
       "<tr>\n",
       "     <td>A</td>      <td>C</td>    <td>2.3833</td>  <td>0.8287</td>  <td>-8.471</td>  <td>13.2377</td>  <td>False</td>\n",
       "</tr>\n",
       "<tr>\n",
       "     <td>B</td>      <td>C</td>    <td>-6.6042</td> <td>0.2457</td> <td>-16.7575</td> <td>3.5491</td>   <td>False</td>\n",
       "</tr>\n",
       "</table>"
      ],
      "text/plain": [
       "<class 'statsmodels.iolib.table.SimpleTable'>"
      ]
     },
     "execution_count": 22,
     "metadata": {},
     "output_type": "execute_result"
    }
   ],
   "source": [
    "# Conduct a Tukey Post-Hoc Test to determine if any groups differ\n",
    "import statsmodels.stats.multicomp as mc\n",
    "comp = mc.MultiComparison(df['wgt'], df['group'])\n",
    "post_hoc_res = comp.tukeyhsd()\n",
    "post_hoc_res.summary()"
   ]
  },
  {
   "cell_type": "code",
   "execution_count": 23,
   "id": "88c9a072",
   "metadata": {},
   "outputs": [],
   "source": [
    "# Analysis: State which groups differ from any other groups? If none, then state that. \n",
    "# You should justify your answer by referencing the p-adj value and alpha = 0.05\n",
    "\n",
    "##None of the groups differ from one another as the reject column is false for all groups"
   ]
  },
  {
   "cell_type": "markdown",
   "id": "f9109439",
   "metadata": {},
   "source": []
  }
 ],
 "metadata": {
  "kernelspec": {
   "display_name": "Python 3",
   "language": "python",
   "name": "python3"
  },
  "language_info": {
   "codemirror_mode": {
    "name": "ipython",
    "version": 3
   },
   "file_extension": ".py",
   "mimetype": "text/x-python",
   "name": "python",
   "nbconvert_exporter": "python",
   "pygments_lexer": "ipython3",
   "version": "3.8.10"
  }
 },
 "nbformat": 4,
 "nbformat_minor": 5
}
