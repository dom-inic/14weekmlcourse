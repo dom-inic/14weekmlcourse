{
 "cells": [
  {
   "cell_type": "markdown",
   "metadata": {},
   "source": [
    "#  Lecture 3 Missing data and outliers"
   ]
  },
  {
   "cell_type": "code",
   "execution_count": 1,
   "metadata": {},
   "outputs": [],
   "source": [
    "from IPython.core.interactiveshell import InteractiveShell\n",
    "InteractiveShell.ast_node_interactivity = \"all\"\n",
    "\n",
    "import os\n",
    "import numpy as np\n",
    "import pandas as pd\n",
    "import matplotlib.pyplot as plt\n",
    "import seaborn as sns\n",
    "from   scipy   import   stats"
   ]
  },
  {
   "cell_type": "markdown",
   "metadata": {},
   "source": [
    "# Missing Data in Python"
   ]
  },
  {
   "cell_type": "code",
   "execution_count": 17,
   "metadata": {},
   "outputs": [],
   "source": [
    "# read the data \n",
    "df =  pd.read_csv(\"airbnb_outlier.csv\")"
   ]
  },
  {
   "cell_type": "code",
   "execution_count": 18,
   "metadata": {},
   "outputs": [
    {
     "data": {
      "text/html": [
       "<div>\n",
       "<style scoped>\n",
       "    .dataframe tbody tr th:only-of-type {\n",
       "        vertical-align: middle;\n",
       "    }\n",
       "\n",
       "    .dataframe tbody tr th {\n",
       "        vertical-align: top;\n",
       "    }\n",
       "\n",
       "    .dataframe thead th {\n",
       "        text-align: right;\n",
       "    }\n",
       "</style>\n",
       "<table border=\"1\" class=\"dataframe\">\n",
       "  <thead>\n",
       "    <tr style=\"text-align: right;\">\n",
       "      <th></th>\n",
       "      <th>index</th>\n",
       "      <th>neighbourhood</th>\n",
       "      <th>zipcode</th>\n",
       "      <th>latitude</th>\n",
       "      <th>longitude</th>\n",
       "      <th>property_type</th>\n",
       "      <th>room_type</th>\n",
       "      <th>accommodates</th>\n",
       "      <th>bathrooms</th>\n",
       "      <th>bedrooms</th>\n",
       "      <th>beds</th>\n",
       "      <th>price</th>\n",
       "    </tr>\n",
       "  </thead>\n",
       "  <tbody>\n",
       "    <tr>\n",
       "      <th>0</th>\n",
       "      <td>0</td>\n",
       "      <td>University of Texas</td>\n",
       "      <td>78705.0</td>\n",
       "      <td>30.30123</td>\n",
       "      <td>-97.73674</td>\n",
       "      <td>Guesthouse</td>\n",
       "      <td>Entire home/apt</td>\n",
       "      <td>2</td>\n",
       "      <td>1.0</td>\n",
       "      <td>1.0</td>\n",
       "      <td>5.0</td>\n",
       "      <td>85</td>\n",
       "    </tr>\n",
       "    <tr>\n",
       "      <th>1</th>\n",
       "      <td>1</td>\n",
       "      <td>East Downtown</td>\n",
       "      <td>78702.0</td>\n",
       "      <td>30.27750</td>\n",
       "      <td>-97.71398</td>\n",
       "      <td>House</td>\n",
       "      <td>Entire home/apt</td>\n",
       "      <td>4</td>\n",
       "      <td>2.0</td>\n",
       "      <td>2.0</td>\n",
       "      <td>6.0</td>\n",
       "      <td>225</td>\n",
       "    </tr>\n",
       "    <tr>\n",
       "      <th>2</th>\n",
       "      <td>2</td>\n",
       "      <td>East Downtown</td>\n",
       "      <td>78702.0</td>\n",
       "      <td>30.27577</td>\n",
       "      <td>-97.71379</td>\n",
       "      <td>House</td>\n",
       "      <td>Private room</td>\n",
       "      <td>2</td>\n",
       "      <td>1.0</td>\n",
       "      <td>1.0</td>\n",
       "      <td>1.0</td>\n",
       "      <td>100</td>\n",
       "    </tr>\n",
       "    <tr>\n",
       "      <th>3</th>\n",
       "      <td>3</td>\n",
       "      <td>East Downtown</td>\n",
       "      <td>78702.0</td>\n",
       "      <td>30.26112</td>\n",
       "      <td>-97.73448</td>\n",
       "      <td>Guesthouse</td>\n",
       "      <td>Entire home/apt</td>\n",
       "      <td>3</td>\n",
       "      <td>1.0</td>\n",
       "      <td>1.0</td>\n",
       "      <td>2.0</td>\n",
       "      <td>95</td>\n",
       "    </tr>\n",
       "    <tr>\n",
       "      <th>4</th>\n",
       "      <td>4</td>\n",
       "      <td>SW Williamson Co.</td>\n",
       "      <td>78729.0</td>\n",
       "      <td>30.45596</td>\n",
       "      <td>-97.78370</td>\n",
       "      <td>House</td>\n",
       "      <td>Private room</td>\n",
       "      <td>2</td>\n",
       "      <td>1.0</td>\n",
       "      <td>1.0</td>\n",
       "      <td>1.0</td>\n",
       "      <td>40</td>\n",
       "    </tr>\n",
       "  </tbody>\n",
       "</table>\n",
       "</div>"
      ],
      "text/plain": [
       "   index        neighbourhood  zipcode  latitude  longitude property_type  \\\n",
       "0      0  University of Texas  78705.0  30.30123  -97.73674    Guesthouse   \n",
       "1      1        East Downtown  78702.0  30.27750  -97.71398         House   \n",
       "2      2        East Downtown  78702.0  30.27577  -97.71379         House   \n",
       "3      3        East Downtown  78702.0  30.26112  -97.73448    Guesthouse   \n",
       "4      4    SW Williamson Co.  78729.0  30.45596  -97.78370         House   \n",
       "\n",
       "         room_type  accommodates  bathrooms  bedrooms  beds  price  \n",
       "0  Entire home/apt             2        1.0       1.0   5.0     85  \n",
       "1  Entire home/apt             4        2.0       2.0   6.0    225  \n",
       "2     Private room             2        1.0       1.0   1.0    100  \n",
       "3  Entire home/apt             3        1.0       1.0   2.0     95  \n",
       "4     Private room             2        1.0       1.0   1.0     40  "
      ]
     },
     "execution_count": 18,
     "metadata": {},
     "output_type": "execute_result"
    }
   ],
   "source": [
    "# display head of data\n",
    "df.head()"
   ]
  },
  {
   "cell_type": "code",
   "execution_count": 19,
   "metadata": {},
   "outputs": [
    {
     "name": "stdout",
     "output_type": "stream",
     "text": [
      "<class 'pandas.core.frame.DataFrame'>\n",
      "RangeIndex: 200 entries, 0 to 199\n",
      "Data columns (total 12 columns):\n",
      " #   Column         Non-Null Count  Dtype  \n",
      "---  ------         --------------  -----  \n",
      " 0   index          200 non-null    int64  \n",
      " 1   neighbourhood  185 non-null    object \n",
      " 2   zipcode        199 non-null    float64\n",
      " 3   latitude       200 non-null    float64\n",
      " 4   longitude      200 non-null    float64\n",
      " 5   property_type  200 non-null    object \n",
      " 6   room_type      200 non-null    object \n",
      " 7   accommodates   200 non-null    int64  \n",
      " 8   bathrooms      194 non-null    float64\n",
      " 9   bedrooms       199 non-null    float64\n",
      " 10  beds           199 non-null    float64\n",
      " 11  price          200 non-null    int64  \n",
      "dtypes: float64(6), int64(3), object(3)\n",
      "memory usage: 18.9+ KB\n"
     ]
    }
   ],
   "source": [
    "# display information\n",
    "df.info()\n"
   ]
  },
  {
   "cell_type": "code",
   "execution_count": 20,
   "metadata": {},
   "outputs": [
    {
     "data": {
      "text/html": [
       "<div>\n",
       "<style scoped>\n",
       "    .dataframe tbody tr th:only-of-type {\n",
       "        vertical-align: middle;\n",
       "    }\n",
       "\n",
       "    .dataframe tbody tr th {\n",
       "        vertical-align: top;\n",
       "    }\n",
       "\n",
       "    .dataframe thead th {\n",
       "        text-align: right;\n",
       "    }\n",
       "</style>\n",
       "<table border=\"1\" class=\"dataframe\">\n",
       "  <thead>\n",
       "    <tr style=\"text-align: right;\">\n",
       "      <th></th>\n",
       "      <th>index</th>\n",
       "      <th>zipcode</th>\n",
       "      <th>latitude</th>\n",
       "      <th>longitude</th>\n",
       "      <th>accommodates</th>\n",
       "      <th>bathrooms</th>\n",
       "      <th>bedrooms</th>\n",
       "      <th>beds</th>\n",
       "      <th>price</th>\n",
       "    </tr>\n",
       "  </thead>\n",
       "  <tbody>\n",
       "    <tr>\n",
       "      <th>count</th>\n",
       "      <td>200.000000</td>\n",
       "      <td>199.000000</td>\n",
       "      <td>200.000000</td>\n",
       "      <td>200.000000</td>\n",
       "      <td>200.000000</td>\n",
       "      <td>194.000000</td>\n",
       "      <td>199.000000</td>\n",
       "      <td>199.000000</td>\n",
       "      <td>200.000000</td>\n",
       "    </tr>\n",
       "    <tr>\n",
       "      <th>mean</th>\n",
       "      <td>99.500000</td>\n",
       "      <td>78718.693467</td>\n",
       "      <td>30.276169</td>\n",
       "      <td>-97.751086</td>\n",
       "      <td>4.665000</td>\n",
       "      <td>1.510309</td>\n",
       "      <td>1.989950</td>\n",
       "      <td>2.613065</td>\n",
       "      <td>247.665000</td>\n",
       "    </tr>\n",
       "    <tr>\n",
       "      <th>std</th>\n",
       "      <td>57.879185</td>\n",
       "      <td>20.530625</td>\n",
       "      <td>0.053441</td>\n",
       "      <td>0.046323</td>\n",
       "      <td>2.820024</td>\n",
       "      <td>0.682799</td>\n",
       "      <td>1.283107</td>\n",
       "      <td>2.080703</td>\n",
       "      <td>238.775567</td>\n",
       "    </tr>\n",
       "    <tr>\n",
       "      <th>min</th>\n",
       "      <td>0.000000</td>\n",
       "      <td>78701.000000</td>\n",
       "      <td>30.156450</td>\n",
       "      <td>-98.002440</td>\n",
       "      <td>1.000000</td>\n",
       "      <td>1.000000</td>\n",
       "      <td>0.000000</td>\n",
       "      <td>1.000000</td>\n",
       "      <td>32.000000</td>\n",
       "    </tr>\n",
       "    <tr>\n",
       "      <th>25%</th>\n",
       "      <td>49.750000</td>\n",
       "      <td>78703.000000</td>\n",
       "      <td>30.247745</td>\n",
       "      <td>-97.767310</td>\n",
       "      <td>2.000000</td>\n",
       "      <td>1.000000</td>\n",
       "      <td>1.000000</td>\n",
       "      <td>1.000000</td>\n",
       "      <td>95.000000</td>\n",
       "    </tr>\n",
       "    <tr>\n",
       "      <th>50%</th>\n",
       "      <td>99.500000</td>\n",
       "      <td>78704.000000</td>\n",
       "      <td>30.261060</td>\n",
       "      <td>-97.750040</td>\n",
       "      <td>4.000000</td>\n",
       "      <td>1.000000</td>\n",
       "      <td>2.000000</td>\n",
       "      <td>2.000000</td>\n",
       "      <td>150.000000</td>\n",
       "    </tr>\n",
       "    <tr>\n",
       "      <th>75%</th>\n",
       "      <td>149.250000</td>\n",
       "      <td>78741.000000</td>\n",
       "      <td>30.294957</td>\n",
       "      <td>-97.727055</td>\n",
       "      <td>6.000000</td>\n",
       "      <td>2.000000</td>\n",
       "      <td>3.000000</td>\n",
       "      <td>3.000000</td>\n",
       "      <td>314.000000</td>\n",
       "    </tr>\n",
       "    <tr>\n",
       "      <th>max</th>\n",
       "      <td>199.000000</td>\n",
       "      <td>78759.000000</td>\n",
       "      <td>30.458310</td>\n",
       "      <td>-97.586250</td>\n",
       "      <td>16.000000</td>\n",
       "      <td>4.000000</td>\n",
       "      <td>10.000000</td>\n",
       "      <td>17.000000</td>\n",
       "      <td>2000.000000</td>\n",
       "    </tr>\n",
       "  </tbody>\n",
       "</table>\n",
       "</div>"
      ],
      "text/plain": [
       "            index       zipcode    latitude   longitude  accommodates  \\\n",
       "count  200.000000    199.000000  200.000000  200.000000    200.000000   \n",
       "mean    99.500000  78718.693467   30.276169  -97.751086      4.665000   \n",
       "std     57.879185     20.530625    0.053441    0.046323      2.820024   \n",
       "min      0.000000  78701.000000   30.156450  -98.002440      1.000000   \n",
       "25%     49.750000  78703.000000   30.247745  -97.767310      2.000000   \n",
       "50%     99.500000  78704.000000   30.261060  -97.750040      4.000000   \n",
       "75%    149.250000  78741.000000   30.294957  -97.727055      6.000000   \n",
       "max    199.000000  78759.000000   30.458310  -97.586250     16.000000   \n",
       "\n",
       "        bathrooms    bedrooms        beds        price  \n",
       "count  194.000000  199.000000  199.000000   200.000000  \n",
       "mean     1.510309    1.989950    2.613065   247.665000  \n",
       "std      0.682799    1.283107    2.080703   238.775567  \n",
       "min      1.000000    0.000000    1.000000    32.000000  \n",
       "25%      1.000000    1.000000    1.000000    95.000000  \n",
       "50%      1.000000    2.000000    2.000000   150.000000  \n",
       "75%      2.000000    3.000000    3.000000   314.000000  \n",
       "max      4.000000   10.000000   17.000000  2000.000000  "
      ]
     },
     "execution_count": 20,
     "metadata": {},
     "output_type": "execute_result"
    }
   ],
   "source": [
    "df.describe()"
   ]
  },
  {
   "cell_type": "code",
   "execution_count": 22,
   "metadata": {},
   "outputs": [
    {
     "data": {
      "text/plain": [
       "<AxesSubplot:>"
      ]
     },
     "execution_count": 22,
     "metadata": {},
     "output_type": "execute_result"
    },
    {
     "data": {
      "image/png": "[encoded data removed]",
      "text/plain": [
       "<Figure size 792x648 with 1 Axes>"
      ]
     },
     "metadata": {
      "needs_background": "light"
     },
     "output_type": "display_data"
    }
   ],
   "source": [
    "# running the info and describe methods above we can see that neighbourhood, zipcode\n",
    "# bathrooms,bedroom and bed column have missing data\n",
    "# plot missing data with a Seaborn heatmap\n",
    "# taking care of text data using pandas to_numeric method\n",
    "\n",
    "# df['neighbourhood'] = pd.to_numeric(df.neighbourhood, errors='coerce')\n",
    "# df['property_type'] = pd.to_numeric(df.property_type,errors='coerce')\n",
    "# df['room_type'] = pd.to_numeric(df.room_type,errors='coerce')\n",
    "# df.info()\n",
    "\n",
    "fig, ax = plt.subplots(figsize=(11, 9))\n",
    "sns.heatmap(df.isnull(), cbar=False)\n",
    "plt.show()\n"
   ]
  },
  {
   "cell_type": "code",
   "execution_count": 23,
   "metadata": {},
   "outputs": [],
   "source": [
    "# drop all the null values for the whole dataset\n",
    "# save the cleaned data frame in the variable cleaned\n",
    "# Be sure to use the CLEANED data frame for all the code after this\n",
    "# dropping neighbourhood, property_type, room_type\n",
    "cleaned = df.dropna()"
   ]
  },
  {
   "cell_type": "code",
   "execution_count": 24,
   "metadata": {},
   "outputs": [
    {
     "data": {
      "text/plain": [
       "(179, 12)"
      ]
     },
     "execution_count": 24,
     "metadata": {},
     "output_type": "execute_result"
    }
   ],
   "source": [
    "# print the shape of the cleaned data frame\n",
    "cleaned.shape"
   ]
  },
  {
   "cell_type": "code",
   "execution_count": 25,
   "metadata": {},
   "outputs": [
    {
     "data": {
      "text/plain": [
       "<AxesSubplot:>"
      ]
     },
     "execution_count": 25,
     "metadata": {},
     "output_type": "execute_result"
    },
    {
     "data": {
      "image/png": "[encoded data removed]",
      "text/plain": [
       "<Figure size 792x648 with 1 Axes>"
      ]
     },
     "metadata": {
      "needs_background": "light"
     },
     "output_type": "display_data"
    }
   ],
   "source": [
    "# recheck cleaned data with a Seaborn heatmap \n",
    "# to see if there is any missing data (should not be any at this point)\n",
    "fig, ax = plt.subplots(figsize=(11, 9))\n",
    "sns.heatmap(df.isnull(), cbar=False)\n",
    "plt.show()\n"
   ]
  },
  {
   "cell_type": "markdown",
   "metadata": {},
   "source": [
    "# Outliers"
   ]
  },
  {
   "cell_type": "code",
   "execution_count": 26,
   "metadata": {},
   "outputs": [
    {
     "data": {
      "text/plain": [
       "count    179.000000\n",
       "mean       1.955307\n",
       "std        1.179513\n",
       "min        0.000000\n",
       "25%        1.000000\n",
       "50%        2.000000\n",
       "75%        3.000000\n",
       "max        6.000000\n",
       "Name: bedrooms, dtype: float64"
      ]
     },
     "execution_count": 26,
     "metadata": {},
     "output_type": "execute_result"
    }
   ],
   "source": [
    "# Be sure to use the CLEANED data frame for all the code after this\n",
    "# describe the column bedrooms in cleaned data frame\n",
    "cleaned['bedrooms'].describe()"
   ]
  },
  {
   "cell_type": "code",
   "execution_count": 27,
   "metadata": {},
   "outputs": [
    {
     "data": {
      "text/plain": [
       "<bound method IndexOpsMixin.value_counts of 0      1.0\n",
       "1      2.0\n",
       "2      1.0\n",
       "3      1.0\n",
       "4      1.0\n",
       "      ... \n",
       "195    3.0\n",
       "196    4.0\n",
       "197    2.0\n",
       "198    3.0\n",
       "199    2.0\n",
       "Name: bedrooms, Length: 179, dtype: float64>"
      ]
     },
     "execution_count": 27,
     "metadata": {},
     "output_type": "execute_result"
    }
   ],
   "source": [
    "# print the value_counts for the cleaned data frame variable bedrooms\n",
    "cleaned['bedrooms'].value_counts"
   ]
  },
  {
   "cell_type": "code",
   "execution_count": 28,
   "metadata": {},
   "outputs": [],
   "source": [
    "# Run this function for Tukey Outliers (there is no output expected)\n",
    "def myfunction(x):\n",
    "    q1 = np.percentile(x,25)\n",
    "    q3 =   np. percentile (x,75)\n",
    "    iqr   = q3 - q1\n",
    "    floor = q1 - 1.5* iqr\n",
    "    ceiling   =   q3   +   1.5*iqr\n",
    "    \n",
    "    outlier_indices   =   list(x. index [( x   <   floor) |( x   >   ceiling )]) \n",
    "    outlier_values   =   list(x[ outlier_indices ])\n",
    "\n",
    "    return outlier_indices , outlier_values"
   ]
  },
  {
   "cell_type": "code",
   "execution_count": 32,
   "metadata": {},
   "outputs": [],
   "source": [
    "# Call the outlier function to find the outliers for bedrooms \n",
    "tukey_indices , tukey_values = myfunction(cleaned['bedrooms'])"
   ]
  },
  {
   "cell_type": "code",
   "execution_count": 34,
   "metadata": {},
   "outputs": [
    {
     "name": "stdout",
     "output_type": "stream",
     "text": [
      "tukey_indices =  []\n",
      "tukey_values=  []\n"
     ]
    }
   ],
   "source": [
    "# Print the outlier indices and value\n",
    "print('tukey_indices = ',tukey_indices)\n",
    "print('tukey_values= ',tukey_values)\n"
   ]
  },
  {
   "cell_type": "code",
   "execution_count": 35,
   "metadata": {},
   "outputs": [],
   "source": [
    "# seems they are no outliers for bedroom\n",
    "## Remove outliers and store the results in the cleaned data frame\n",
    "cleaned= cleaned[~cleaned['price'].index.isin(tukey_indices)]  # save in new dataframe"
   ]
  },
  {
   "cell_type": "code",
   "execution_count": 36,
   "metadata": {},
   "outputs": [
    {
     "data": {
      "text/plain": [
       "(179, 12)"
      ]
     },
     "execution_count": 36,
     "metadata": {},
     "output_type": "execute_result"
    }
   ],
   "source": [
    "# print cleaned shape\n",
    "cleaned.shape"
   ]
  },
  {
   "cell_type": "markdown",
   "metadata": {},
   "source": [
    "# Graphs"
   ]
  },
  {
   "cell_type": "code",
   "execution_count": 37,
   "metadata": {},
   "outputs": [
    {
     "data": {
      "image/png": "[encoded data removed]",
      "text/plain": [
       "<Figure size 432x288 with 1 Axes>"
      ]
     },
     "metadata": {
      "needs_background": "light"
     },
     "output_type": "display_data"
    }
   ],
   "source": [
    "# Use the cleaned data \n",
    "# create a boxplot of bedrooms (x) and price (y)\n",
    "# add a title\n",
    "ax = sns.boxplot(x='bedrooms', y='price', data=cleaned)\n",
    "ax.set_title(\"Airbnb Room Price by bedrooms\");"
   ]
  },
  {
   "cell_type": "code",
   "execution_count": null,
   "metadata": {},
   "outputs": [],
   "source": []
  }
 ],
 "metadata": {
  "kernelspec": {
   "display_name": "Python 3 (ipykernel)",
   "language": "python",
   "name": "python3"
  },
  "language_info": {
   "codemirror_mode": {
    "name": "ipython",
    "version": 3
   },
   "file_extension": ".py",
   "mimetype": "text/x-python",
   "name": "python",
   "nbconvert_exporter": "python",
   "pygments_lexer": "ipython3",
   "version": "3.8.2"
  },
  "varInspector": {
   "cols": {
    "lenName": 16,
    "lenType": 16,
    "lenVar": 40
   },
   "kernels_config": {
    "python": {
     "delete_cmd_postfix": "",
     "delete_cmd_prefix": "del ",
     "library": "var_list.py",
     "varRefreshCmd": "print(var_dic_list())"
    },
    "r": {
     "delete_cmd_postfix": ") ",
     "delete_cmd_prefix": "rm(",
     "library": "var_list.r",
     "varRefreshCmd": "cat(var_dic_list()) "
    }
   },
   "position": {
    "height": "554.85px",
    "left": "593.667px",
    "right": "20px",
    "top": "120px",
    "width": "491.333px"
   },
   "types_to_exclude": [
    "module",
    "function",
    "builtin_function_or_method",
    "instance",
    "_Feature"
   ],
   "window_display": false
  }
 },
 "nbformat": 4,
 "nbformat_minor": 4
}
