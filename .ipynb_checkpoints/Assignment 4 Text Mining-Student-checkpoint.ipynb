{
 "cells": [
  {
   "cell_type": "markdown",
   "id": "7f7bbcd1",
   "metadata": {},
   "source": [
    "# Assignment 4 Text Mining of Airbnb Data"
   ]
  },
  {
   "cell_type": "code",
   "execution_count": 2,
   "id": "7de08b7d",
   "metadata": {},
   "outputs": [],
   "source": [
    "from IPython.core.interactiveshell import InteractiveShell\n",
    "InteractiveShell.ast_node_interactivity = \"all\"\n",
    "%matplotlib inline\n",
    "\n",
    "import os\n",
    "import numpy as np\n",
    "import pandas as pd\n",
    "import seaborn as sns\n",
    "import matplotlib.pyplot as plt"
   ]
  },
  {
   "cell_type": "code",
   "execution_count": 3,
   "id": "778c4a7f",
   "metadata": {},
   "outputs": [],
   "source": [
    "# read the data\n",
    "df = pd.read_csv(\"df_full_listing.csv\")"
   ]
  },
  {
   "cell_type": "code",
   "execution_count": 4,
   "id": "4d40f816",
   "metadata": {},
   "outputs": [
    {
     "data": {
      "text/plain": [
       "(11792, 61)"
      ]
     },
     "execution_count": 4,
     "metadata": {},
     "output_type": "execute_result"
    }
   ],
   "source": [
    "# display data shape\n",
    "df.shape"
   ]
  },
  {
   "cell_type": "code",
   "execution_count": 5,
   "id": "08da87ce",
   "metadata": {},
   "outputs": [
    {
     "data": {
      "text/plain": [
       "Index(['Unnamed: 0', 'id', 'host_id', 'host_name', 'host_since',\n",
       "       'host_response_time', 'host_response_rate', 'host_is_superhost',\n",
       "       'host_neighbourhood', 'host_listings_count',\n",
       "       'host_total_listings_count', 'host_verifications',\n",
       "       'host_has_profile_pic', 'host_identity_verified', 'neighbourhood',\n",
       "       'neighbourhood_cleansed', 'zipcode', 'latitude', 'longitude',\n",
       "       'is_location_exact', 'property_type', 'room_type', 'accommodates',\n",
       "       'bathrooms', 'bedrooms', 'beds', 'bed_type', 'amenities', 'price',\n",
       "       'weekly_price', 'monthly_price', 'security_deposit', 'cleaning_fee',\n",
       "       'guests_included', 'extra_people', 'minimum_nights', 'maximum_nights',\n",
       "       'availability_30', 'availability_60', 'availability_90',\n",
       "       'availability_365', 'number_of_reviews', 'number_of_reviews_ltm',\n",
       "       'first_review', 'last_review', 'review_scores_rating',\n",
       "       'review_scores_accuracy', 'review_scores_cleanliness',\n",
       "       'review_scores_checkin', 'review_scores_communication',\n",
       "       'review_scores_location', 'review_scores_value', 'instant_bookable',\n",
       "       'is_business_travel_ready', 'cancellation_policy',\n",
       "       'require_guest_phone_verification', 'calculated_host_listings_count',\n",
       "       'calculated_host_listings_count_entire_homes',\n",
       "       'calculated_host_listings_count_private_rooms',\n",
       "       'calculated_host_listings_count_shared_rooms', 'reviews_per_month'],\n",
       "      dtype='object')"
      ]
     },
     "execution_count": 5,
     "metadata": {},
     "output_type": "execute_result"
    }
   ],
   "source": [
    "# print the data frame column names\n",
    "df.columns"
   ]
  },
  {
   "cell_type": "code",
   "execution_count": 11,
   "id": "b44c7ecc",
   "metadata": {},
   "outputs": [
    {
     "data": {
      "text/plain": [
       "302"
      ]
     },
     "execution_count": 11,
     "metadata": {},
     "output_type": "execute_result"
    }
   ],
   "source": [
    "# print the length of first row of amenities\n",
    "len(df.amenities[0])"
   ]
  },
  {
   "cell_type": "code",
   "execution_count": 14,
   "id": "0e5b0637",
   "metadata": {},
   "outputs": [
    {
     "data": {
      "text/plain": [
       "0    {TV,Internet,Wifi,\"Air conditioning\",Kitchen,\"...\n",
       "1    {TV,\"Cable TV\",Internet,Wifi,\"Air conditioning...\n",
       "Name: amenities, dtype: object"
      ]
     },
     "execution_count": 14,
     "metadata": {},
     "output_type": "execute_result"
    }
   ],
   "source": [
    "# print the first TWO rows of the amenities column\n",
    "df.amenities[0:2]\n"
   ]
  },
  {
   "cell_type": "markdown",
   "id": "5367ab70",
   "metadata": {},
   "source": [
    "# Data Cleaning"
   ]
  },
  {
   "cell_type": "code",
   "execution_count": 15,
   "id": "359324df",
   "metadata": {},
   "outputs": [],
   "source": [
    "# copy your data frame to a new variable called newdf\n",
    "newdf = df.copy()"
   ]
  },
  {
   "cell_type": "code",
   "execution_count": 16,
   "id": "16bb3b72",
   "metadata": {},
   "outputs": [
    {
     "data": {
      "text/plain": [
       "0    {TV,Internet,Wifi,Air conditioning,Kitchen,Fre...\n",
       "1    {TV,Cable TV,Internet,Wifi,Air conditioning,Ki...\n",
       "Name: amenities, dtype: object"
      ]
     },
     "execution_count": 16,
     "metadata": {},
     "output_type": "execute_result"
    }
   ],
   "source": [
    "# remove the quotes from newdf & display the first two rows of results\n",
    "newdf  = df.amenities.str.replace('\"','')\n",
    "newdf.head(2)\n"
   ]
  },
  {
   "cell_type": "markdown",
   "id": "40aa2039",
   "metadata": {},
   "source": [
    "# Dictionaries"
   ]
  },
  {
   "cell_type": "code",
   "execution_count": 17,
   "id": "cd743cec",
   "metadata": {},
   "outputs": [
    {
     "data": {
      "text/plain": [
       "{'_AGE_G': 'Age65', '_IMPRACE': 'Race', 'SEXVAR': 'Gender'}"
      ]
     },
     "execution_count": 17,
     "metadata": {},
     "output_type": "execute_result"
    }
   ],
   "source": [
    "# use this dictionary for this section\n",
    "# remember to use the correct case\n",
    "mydict={'_AGE_G':'Age65', \n",
    "        '_IMPRACE':'Race',\n",
    "        'SEXVAR':'Gender'}\n",
    "mydict"
   ]
  },
  {
   "cell_type": "code",
   "execution_count": 18,
   "id": "f9412655",
   "metadata": {},
   "outputs": [
    {
     "data": {
      "text/plain": [
       "'Race'"
      ]
     },
     "execution_count": 18,
     "metadata": {},
     "output_type": "execute_result"
    }
   ],
   "source": [
    "# select race entry from dictionary\n",
    "mydict['_IMPRACE']"
   ]
  },
  {
   "cell_type": "code",
   "execution_count": 27,
   "id": "64f52b8e",
   "metadata": {},
   "outputs": [
    {
     "data": {
      "text/plain": [
       "True"
      ]
     },
     "execution_count": 27,
     "metadata": {},
     "output_type": "execute_result"
    }
   ],
   "source": [
    "# write statements to show if a Gender is in the dictionary?\n",
    "'SEXVAR' in mydict"
   ]
  },
  {
   "cell_type": "code",
   "execution_count": 22,
   "id": "b8503068",
   "metadata": {},
   "outputs": [
    {
     "data": {
      "text/plain": [
       "{'_AGE_G': 'Age65',\n",
       " '_IMPRACE': 'Race',\n",
       " 'SEXVAR': 'Gender',\n",
       " '_XEDUCATION_': 'Xeducation'}"
      ]
     },
     "execution_count": 22,
     "metadata": {},
     "output_type": "execute_result"
    }
   ],
   "source": [
    "# add _XEDUCATION_ to the dictionary & print the dictionary entries\n",
    "mydict[\"_XEDUCATION_\"] = \"Xeducation\"\n",
    "mydict"
   ]
  },
  {
   "cell_type": "code",
   "execution_count": 25,
   "id": "e38d4534",
   "metadata": {},
   "outputs": [
    {
     "data": {
      "text/plain": [
       "'Xeducation'"
      ]
     },
     "execution_count": 25,
     "metadata": {},
     "output_type": "execute_result"
    }
   ],
   "source": [
    "# return default value if key for '_XEDUCATION_' is not found in dictionary\n",
    "mydict.get('_XEDUCATION_', 999)"
   ]
  },
  {
   "cell_type": "code",
   "execution_count": null,
   "id": "9f883d01",
   "metadata": {},
   "outputs": [],
   "source": []
  }
 ],
 "metadata": {
  "kernelspec": {
   "display_name": "Python 3 (ipykernel)",
   "language": "python",
   "name": "python3"
  },
  "language_info": {
   "codemirror_mode": {
    "name": "ipython",
    "version": 3
   },
   "file_extension": ".py",
   "mimetype": "text/x-python",
   "name": "python",
   "nbconvert_exporter": "python",
   "pygments_lexer": "ipython3",
   "version": "3.8.2"
  }
 },
 "nbformat": 4,
 "nbformat_minor": 5
}
