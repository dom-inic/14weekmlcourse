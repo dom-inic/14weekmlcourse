{
 "cells": [
  {
   "cell_type": "markdown",
   "id": "7f7bbcd1",
   "metadata": {},
   "source": [
    "# Assignment 11 Time Series"
   ]
  },
  {
   "cell_type": "code",
   "execution_count": 1,
   "id": "afe76dfd",
   "metadata": {},
   "outputs": [],
   "source": [
    "from IPython.core.interactiveshell import InteractiveShell\n",
    "InteractiveShell.ast_node_interactivity = \"all\"\n",
    "\n",
    "import os\n",
    "import numpy as np\n",
    "import pandas as pd\n",
    "import matplotlib.pyplot as plt\n",
    "import seaborn as sns\n",
    "from   scipy   import   stats"
   ]
  },
  {
   "cell_type": "markdown",
   "id": "4a058db3",
   "metadata": {},
   "source": [
    "# Time Series Stocks"
   ]
  },
  {
   "cell_type": "code",
   "execution_count": 2,
   "id": "55df8513",
   "metadata": {},
   "outputs": [],
   "source": [
    "# Read the data; set Date column as an index to your data for time series\n",
    "df = pd.read_csv('timeseries_stocks.csv',parse_dates=['Date'], index_col=\"Date\")"
   ]
  },
  {
   "cell_type": "code",
   "execution_count": 3,
   "id": "9ed4f6e6",
   "metadata": {},
   "outputs": [
    {
     "name": "stdout",
     "output_type": "stream",
     "text": [
      "<class 'pandas.core.frame.DataFrame'>\n",
      "DatetimeIndex: 253 entries, 2019-06-20 to 2020-06-19\n",
      "Data columns (total 6 columns):\n",
      " #   Column     Non-Null Count  Dtype  \n",
      "---  ------     --------------  -----  \n",
      " 0   Open       253 non-null    float64\n",
      " 1   High       253 non-null    float64\n",
      " 2   Low        253 non-null    float64\n",
      " 3   Close      253 non-null    float64\n",
      " 4   Adj Close  253 non-null    float64\n",
      " 5   Volume     253 non-null    int64  \n",
      "dtypes: float64(5), int64(1)\n",
      "memory usage: 13.8 KB\n"
     ]
    }
   ],
   "source": [
    "# display data information\n",
    "df.info()"
   ]
  },
  {
   "cell_type": "code",
   "execution_count": 4,
   "id": "1cb06417",
   "metadata": {},
   "outputs": [
    {
     "data": {
      "text/html": [
       "<div>\n",
       "<style scoped>\n",
       "    .dataframe tbody tr th:only-of-type {\n",
       "        vertical-align: middle;\n",
       "    }\n",
       "\n",
       "    .dataframe tbody tr th {\n",
       "        vertical-align: top;\n",
       "    }\n",
       "\n",
       "    .dataframe thead th {\n",
       "        text-align: right;\n",
       "    }\n",
       "</style>\n",
       "<table border=\"1\" class=\"dataframe\">\n",
       "  <thead>\n",
       "    <tr style=\"text-align: right;\">\n",
       "      <th></th>\n",
       "      <th>Open</th>\n",
       "      <th>High</th>\n",
       "      <th>Low</th>\n",
       "      <th>Close</th>\n",
       "      <th>Adj Close</th>\n",
       "      <th>Volume</th>\n",
       "    </tr>\n",
       "    <tr>\n",
       "      <th>Date</th>\n",
       "      <th></th>\n",
       "      <th></th>\n",
       "      <th></th>\n",
       "      <th></th>\n",
       "      <th></th>\n",
       "      <th></th>\n",
       "    </tr>\n",
       "  </thead>\n",
       "  <tbody>\n",
       "    <tr>\n",
       "      <th>2019-06-20</th>\n",
       "      <td>190.949997</td>\n",
       "      <td>191.160004</td>\n",
       "      <td>187.639999</td>\n",
       "      <td>189.529999</td>\n",
       "      <td>189.529999</td>\n",
       "      <td>14635700</td>\n",
       "    </tr>\n",
       "    <tr>\n",
       "      <th>2019-06-21</th>\n",
       "      <td>188.750000</td>\n",
       "      <td>192.000000</td>\n",
       "      <td>188.750000</td>\n",
       "      <td>191.139999</td>\n",
       "      <td>191.139999</td>\n",
       "      <td>22751200</td>\n",
       "    </tr>\n",
       "    <tr>\n",
       "      <th>2019-06-24</th>\n",
       "      <td>192.419998</td>\n",
       "      <td>193.979996</td>\n",
       "      <td>191.570007</td>\n",
       "      <td>192.600006</td>\n",
       "      <td>192.600006</td>\n",
       "      <td>15509000</td>\n",
       "    </tr>\n",
       "    <tr>\n",
       "      <th>2019-06-25</th>\n",
       "      <td>192.880005</td>\n",
       "      <td>193.139999</td>\n",
       "      <td>188.130005</td>\n",
       "      <td>188.839996</td>\n",
       "      <td>188.839996</td>\n",
       "      <td>16750300</td>\n",
       "    </tr>\n",
       "    <tr>\n",
       "      <th>2019-06-26</th>\n",
       "      <td>189.539993</td>\n",
       "      <td>190.759995</td>\n",
       "      <td>187.309998</td>\n",
       "      <td>187.660004</td>\n",
       "      <td>187.660004</td>\n",
       "      <td>12808600</td>\n",
       "    </tr>\n",
       "  </tbody>\n",
       "</table>\n",
       "</div>"
      ],
      "text/plain": [
       "                  Open        High         Low       Close   Adj Close  \\\n",
       "Date                                                                     \n",
       "2019-06-20  190.949997  191.160004  187.639999  189.529999  189.529999   \n",
       "2019-06-21  188.750000  192.000000  188.750000  191.139999  191.139999   \n",
       "2019-06-24  192.419998  193.979996  191.570007  192.600006  192.600006   \n",
       "2019-06-25  192.880005  193.139999  188.130005  188.839996  188.839996   \n",
       "2019-06-26  189.539993  190.759995  187.309998  187.660004  187.660004   \n",
       "\n",
       "              Volume  \n",
       "Date                  \n",
       "2019-06-20  14635700  \n",
       "2019-06-21  22751200  \n",
       "2019-06-24  15509000  \n",
       "2019-06-25  16750300  \n",
       "2019-06-26  12808600  "
      ]
     },
     "execution_count": 4,
     "metadata": {},
     "output_type": "execute_result"
    }
   ],
   "source": [
    "# display head of data\n",
    "df.head()"
   ]
  },
  {
   "cell_type": "code",
   "execution_count": 5,
   "id": "d8b3aa85",
   "metadata": {},
   "outputs": [
    {
     "data": {
      "text/plain": [
       "count    253.000000\n",
       "mean     198.223637\n",
       "std       18.630595\n",
       "min      148.179993\n",
       "25%      186.729996\n",
       "50%      197.070007\n",
       "75%      210.380005\n",
       "max      241.210007\n",
       "Name: High, dtype: float64"
      ]
     },
     "execution_count": 5,
     "metadata": {},
     "output_type": "execute_result"
    }
   ],
   "source": [
    "# Describe High price per share\n",
    "df['High'].describe()"
   ]
  },
  {
   "cell_type": "code",
   "execution_count": 6,
   "id": "8845ebd6",
   "metadata": {},
   "outputs": [
    {
     "data": {
      "text/plain": [
       "Open         1.895400e+02\n",
       "High         1.907600e+02\n",
       "Low          1.873100e+02\n",
       "Close        1.876600e+02\n",
       "Adj Close    1.876600e+02\n",
       "Volume       1.280860e+07\n",
       "Name: 2019-06-26 00:00:00, dtype: float64"
      ]
     },
     "execution_count": 6,
     "metadata": {},
     "output_type": "execute_result"
    }
   ],
   "source": [
    "# examine data for day 2019-06-26\n",
    "df.loc[\"2019-06-26\"]"
   ]
  },
  {
   "cell_type": "code",
   "execution_count": 7,
   "id": "0ca8fbbc",
   "metadata": {},
   "outputs": [
    {
     "name": "stdout",
     "output_type": "stream",
     "text": [
      "The sample has  13  months of data\n"
     ]
    },
    {
     "data": {
      "text/plain": [
       "Date\n",
       "2019-06-30    193.302857\n",
       "2019-07-31    201.507729\n",
       "2019-08-31    186.795908\n",
       "2019-09-30    187.609500\n",
       "2019-10-31    186.428694\n",
       "2019-11-30    197.110999\n",
       "2019-12-31    203.538095\n",
       "2020-01-31    218.119524\n",
       "2020-02-29    209.679475\n",
       "2020-03-31    170.172727\n",
       "2020-04-30    179.785715\n",
       "2020-05-31    219.477501\n",
       "2020-06-30    234.996002\n",
       "Freq: M, Name: High, dtype: float64"
      ]
     },
     "execution_count": 7,
     "metadata": {},
     "output_type": "execute_result"
    }
   ],
   "source": [
    "#\n",
    "# get a sample of  monthly average High price\n",
    "# print the sample\n",
    "\n",
    "monthly_samp = df.High.resample('M').mean()  \n",
    "\n",
    "print('The sample has ',len(monthly_samp),' months of data')\n",
    "\n",
    "monthly_samp"
   ]
  },
  {
   "cell_type": "code",
   "execution_count": 8,
   "id": "116ea646",
   "metadata": {},
   "outputs": [
    {
     "data": {
      "image/png": "[encoded data removed]",
      "text/plain": [
       "<Figure size 432x288 with 1 Axes>"
      ]
     },
     "metadata": {
      "needs_background": "light"
     },
     "output_type": "display_data"
    }
   ],
   "source": [
    "# plot the monthly sample in Seaborn lineplot\n",
    "ax = sns.lineplot(data=monthly_samp)\n",
    "ax.set(title='Monthly Sample of Average Stock High Price', xlabel='Months', ylabel='Frequency');\n"
   ]
  },
  {
   "cell_type": "code",
   "execution_count": 9,
   "id": "e4a78394",
   "metadata": {},
   "outputs": [
    {
     "data": {
      "image/png": "[encoded data removed]",
      "text/plain": [
       "<Figure size 432x288 with 1 Axes>"
      ]
     },
     "metadata": {
      "needs_background": "light"
     },
     "output_type": "display_data"
    }
   ],
   "source": [
    "# Get a Weekly Sample of High data & Plot it with a Seaborn lineplot. \n",
    "# Compare the weekly and the monthly samples\n",
    "# The weekly sample has more information on the rise and fall of stocks\n",
    "weekly_samp = df.High.resample('W').mean()\n",
    "\n",
    "ax = sns.lineplot(data=weekly_samp)\n",
    "ax.set(title='Weekly Sample of Average Stock High Price', xlabel='Weeks', ylabel='Frequency');\n"
   ]
  },
  {
   "cell_type": "code",
   "execution_count": 10,
   "id": "90df97b7",
   "metadata": {},
   "outputs": [],
   "source": [
    "# Make a variable newdf of stock High\n",
    "newdf = pd.DataFrame(df.High)"
   ]
  },
  {
   "cell_type": "code",
   "execution_count": 11,
   "id": "473c66f0",
   "metadata": {},
   "outputs": [
    {
     "data": {
      "text/html": [
       "<div>\n",
       "<style scoped>\n",
       "    .dataframe tbody tr th:only-of-type {\n",
       "        vertical-align: middle;\n",
       "    }\n",
       "\n",
       "    .dataframe tbody tr th {\n",
       "        vertical-align: top;\n",
       "    }\n",
       "\n",
       "    .dataframe thead th {\n",
       "        text-align: right;\n",
       "    }\n",
       "</style>\n",
       "<table border=\"1\" class=\"dataframe\">\n",
       "  <thead>\n",
       "    <tr style=\"text-align: right;\">\n",
       "      <th></th>\n",
       "      <th>High</th>\n",
       "    </tr>\n",
       "    <tr>\n",
       "      <th>Date</th>\n",
       "      <th></th>\n",
       "    </tr>\n",
       "  </thead>\n",
       "  <tbody>\n",
       "    <tr>\n",
       "      <th>2019-06-20</th>\n",
       "      <td>191.160004</td>\n",
       "    </tr>\n",
       "    <tr>\n",
       "      <th>2019-06-21</th>\n",
       "      <td>192.000000</td>\n",
       "    </tr>\n",
       "    <tr>\n",
       "      <th>2019-06-24</th>\n",
       "      <td>193.979996</td>\n",
       "    </tr>\n",
       "    <tr>\n",
       "      <th>2019-06-25</th>\n",
       "      <td>193.139999</td>\n",
       "    </tr>\n",
       "    <tr>\n",
       "      <th>2019-06-26</th>\n",
       "      <td>190.759995</td>\n",
       "    </tr>\n",
       "  </tbody>\n",
       "</table>\n",
       "</div>"
      ],
      "text/plain": [
       "                  High\n",
       "Date                  \n",
       "2019-06-20  191.160004\n",
       "2019-06-21  192.000000\n",
       "2019-06-24  193.979996\n",
       "2019-06-25  193.139999\n",
       "2019-06-26  190.759995"
      ]
     },
     "execution_count": 11,
     "metadata": {},
     "output_type": "execute_result"
    }
   ],
   "source": [
    "# Display the head of newdf\n",
    "newdf.head()"
   ]
  },
  {
   "cell_type": "code",
   "execution_count": 12,
   "id": "4f47b362",
   "metadata": {},
   "outputs": [
    {
     "data": {
      "text/html": [
       "<div>\n",
       "<style scoped>\n",
       "    .dataframe tbody tr th:only-of-type {\n",
       "        vertical-align: middle;\n",
       "    }\n",
       "\n",
       "    .dataframe tbody tr th {\n",
       "        vertical-align: top;\n",
       "    }\n",
       "\n",
       "    .dataframe thead th {\n",
       "        text-align: right;\n",
       "    }\n",
       "</style>\n",
       "<table border=\"1\" class=\"dataframe\">\n",
       "  <thead>\n",
       "    <tr style=\"text-align: right;\">\n",
       "      <th></th>\n",
       "      <th>High</th>\n",
       "    </tr>\n",
       "    <tr>\n",
       "      <th>Date</th>\n",
       "      <th></th>\n",
       "    </tr>\n",
       "  </thead>\n",
       "  <tbody>\n",
       "    <tr>\n",
       "      <th>2019-06-20</th>\n",
       "      <td>NaN</td>\n",
       "    </tr>\n",
       "    <tr>\n",
       "      <th>2019-06-21</th>\n",
       "      <td>191.160004</td>\n",
       "    </tr>\n",
       "    <tr>\n",
       "      <th>2019-06-24</th>\n",
       "      <td>192.000000</td>\n",
       "    </tr>\n",
       "    <tr>\n",
       "      <th>2019-06-25</th>\n",
       "      <td>193.979996</td>\n",
       "    </tr>\n",
       "    <tr>\n",
       "      <th>2019-06-26</th>\n",
       "      <td>193.139999</td>\n",
       "    </tr>\n",
       "    <tr>\n",
       "      <th>...</th>\n",
       "      <td>...</td>\n",
       "    </tr>\n",
       "    <tr>\n",
       "      <th>2020-06-15</th>\n",
       "      <td>231.660004</td>\n",
       "    </tr>\n",
       "    <tr>\n",
       "      <th>2020-06-16</th>\n",
       "      <td>233.770004</td>\n",
       "    </tr>\n",
       "    <tr>\n",
       "      <th>2020-06-17</th>\n",
       "      <td>238.460007</td>\n",
       "    </tr>\n",
       "    <tr>\n",
       "      <th>2020-06-18</th>\n",
       "      <td>237.589996</td>\n",
       "    </tr>\n",
       "    <tr>\n",
       "      <th>2020-06-19</th>\n",
       "      <td>236.139999</td>\n",
       "    </tr>\n",
       "  </tbody>\n",
       "</table>\n",
       "<p>253 rows × 1 columns</p>\n",
       "</div>"
      ],
      "text/plain": [
       "                  High\n",
       "Date                  \n",
       "2019-06-20         NaN\n",
       "2019-06-21  191.160004\n",
       "2019-06-24  192.000000\n",
       "2019-06-25  193.979996\n",
       "2019-06-26  193.139999\n",
       "...                ...\n",
       "2020-06-15  231.660004\n",
       "2020-06-16  233.770004\n",
       "2020-06-17  238.460007\n",
       "2020-06-18  237.589996\n",
       "2020-06-19  236.139999\n",
       "\n",
       "[253 rows x 1 columns]"
      ]
     },
     "execution_count": 12,
     "metadata": {},
     "output_type": "execute_result"
    }
   ],
   "source": [
    "# Time Shifts: shiShift stock High by one day\n",
    "newdf.shift(1)"
   ]
  },
  {
   "cell_type": "code",
   "execution_count": 13,
   "id": "dfead6ea",
   "metadata": {},
   "outputs": [
    {
     "name": "stdout",
     "output_type": "stream",
     "text": [
      "<class 'pandas.core.frame.DataFrame'>\n",
      "DatetimeIndex: 253 entries, 2019-06-20 to 2020-06-19\n",
      "Data columns (total 2 columns):\n",
      " #   Column       Non-Null Count  Dtype  \n",
      "---  ------       --------------  -----  \n",
      " 0   High         253 non-null    float64\n",
      " 1   PrevDayHigh  252 non-null    float64\n",
      "dtypes: float64(2)\n",
      "memory usage: 14.0 KB\n"
     ]
    }
   ],
   "source": [
    "# Now, shift and add the previous days High  price\n",
    "newdf['PrevDayHigh'] = newdf.High.shift(1)  # add shift value to dataframe\n",
    "newdf.info()"
   ]
  },
  {
   "cell_type": "markdown",
   "id": "cca6c43b",
   "metadata": {},
   "source": [
    "### Rolling Average"
   ]
  },
  {
   "cell_type": "code",
   "execution_count": 14,
   "id": "af46e01b",
   "metadata": {},
   "outputs": [],
   "source": [
    "# take average every 3 days of High stock prices\n",
    "rollingavg =  df[['High']].rolling(window = 3).mean()\n"
   ]
  },
  {
   "cell_type": "code",
   "execution_count": 15,
   "id": "70d391fc",
   "metadata": {},
   "outputs": [
    {
     "data": {
      "image/png": "[encoded data removed]",
      "text/plain": [
       "<Figure size 432x288 with 1 Axes>"
      ]
     },
     "metadata": {
      "needs_background": "light"
     },
     "output_type": "display_data"
    }
   ],
   "source": [
    "# create a line plot of the data with title and axis labels\n",
    "ax = sns.lineplot(data=rollingavg)\n",
    "ax.set(title='Rolling Average for 3 Days',xlabel='Dates',ylabel='Frequency');"
   ]
  },
  {
   "cell_type": "code",
   "execution_count": null,
   "id": "67818310",
   "metadata": {},
   "outputs": [],
   "source": []
  }
 ],
 "metadata": {
  "kernelspec": {
   "display_name": "Python 3 (ipykernel)",
   "language": "python",
   "name": "python3"
  },
  "language_info": {
   "codemirror_mode": {
    "name": "ipython",
    "version": 3
   },
   "file_extension": ".py",
   "mimetype": "text/x-python",
   "name": "python",
   "nbconvert_exporter": "python",
   "pygments_lexer": "ipython3",
   "version": "3.8.2"
  }
 },
 "nbformat": 4,
 "nbformat_minor": 5
}
