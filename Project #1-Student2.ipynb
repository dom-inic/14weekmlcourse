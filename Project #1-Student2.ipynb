{
 "cells": [
  {
   "cell_type": "markdown",
   "id": "47248e52",
   "metadata": {},
   "source": [
    "## Project #1"
   ]
  },
  {
   "cell_type": "code",
   "execution_count": 1,
   "id": "74c44c97",
   "metadata": {},
   "outputs": [],
   "source": [
    "from IPython.core.interactiveshell import InteractiveShell\n",
    "InteractiveShell.ast_node_interactivity = \"all\"\n",
    "%matplotlib inline\n",
    "\n",
    "import os\n",
    "import numpy as np\n",
    "import pandas as pd\n",
    "import matplotlib.pyplot as plt\n",
    "import seaborn as sns\n",
    "from   scipy   import   stats"
   ]
  },
  {
   "cell_type": "markdown",
   "id": "07bf3f33",
   "metadata": {},
   "source": [
    "* Healthcare data breaches are increasing. These breaches can cause patient safety issues and loss of data integrity.\n",
    "All healthcare data breaches affecting over 500 individuals must be reported to the Department of Health and Human services (DHHS).\n",
    "Thus, it is important to understand factors related to data breaches. The data for this assignment is a theoretical set of breach data for breach reporting at several points in time.\n",
    "* The data variables are:\n",
    "   + Hospital – abbreviation for the hospital that was surveyed about breaches in the last few years\n",
    "   + Breach – 1 for breach reported, 0 for no breach\n",
    "   + Ba_present - 1 for business associate present at the time of breach, 0 for business associate not present at the time of breach\n",
    "   + Numrecs – the number of records affected by the breach\n"
   ]
  },
  {
   "cell_type": "code",
   "execution_count": 2,
   "id": "76489ace",
   "metadata": {},
   "outputs": [],
   "source": [
    "# read the data\n",
    "df = pd.read_csv('databreach.csv')"
   ]
  },
  {
   "cell_type": "code",
   "execution_count": 3,
   "id": "d757de9a",
   "metadata": {},
   "outputs": [
    {
     "name": "stdout",
     "output_type": "stream",
     "text": [
      "<class 'pandas.core.frame.DataFrame'>\n",
      "RangeIndex: 60 entries, 0 to 59\n",
      "Data columns (total 4 columns):\n",
      " #   Column      Non-Null Count  Dtype \n",
      "---  ------      --------------  ----- \n",
      " 0   hospital    60 non-null     object\n",
      " 1   breach      60 non-null     int64 \n",
      " 2   ba_present  60 non-null     int64 \n",
      " 3   numrecs     60 non-null     int64 \n",
      "dtypes: int64(3), object(1)\n",
      "memory usage: 2.0+ KB\n"
     ]
    }
   ],
   "source": [
    "# display data frame information\n",
    "df.info()"
   ]
  },
  {
   "cell_type": "code",
   "execution_count": 4,
   "id": "bac9df81",
   "metadata": {},
   "outputs": [
    {
     "data": {
      "text/html": [
       "<div>\n",
       "<style scoped>\n",
       "    .dataframe tbody tr th:only-of-type {\n",
       "        vertical-align: middle;\n",
       "    }\n",
       "\n",
       "    .dataframe tbody tr th {\n",
       "        vertical-align: top;\n",
       "    }\n",
       "\n",
       "    .dataframe thead th {\n",
       "        text-align: right;\n",
       "    }\n",
       "</style>\n",
       "<table border=\"1\" class=\"dataframe\">\n",
       "  <thead>\n",
       "    <tr style=\"text-align: right;\">\n",
       "      <th></th>\n",
       "      <th>hospital</th>\n",
       "      <th>breach</th>\n",
       "      <th>ba_present</th>\n",
       "      <th>numrecs</th>\n",
       "    </tr>\n",
       "  </thead>\n",
       "  <tbody>\n",
       "    <tr>\n",
       "      <th>0</th>\n",
       "      <td>CLH</td>\n",
       "      <td>0</td>\n",
       "      <td>1</td>\n",
       "      <td>502</td>\n",
       "    </tr>\n",
       "    <tr>\n",
       "      <th>1</th>\n",
       "      <td>MH</td>\n",
       "      <td>1</td>\n",
       "      <td>1</td>\n",
       "      <td>500</td>\n",
       "    </tr>\n",
       "    <tr>\n",
       "      <th>2</th>\n",
       "      <td>MH</td>\n",
       "      <td>1</td>\n",
       "      <td>0</td>\n",
       "      <td>497</td>\n",
       "    </tr>\n",
       "    <tr>\n",
       "      <th>3</th>\n",
       "      <td>MH</td>\n",
       "      <td>1</td>\n",
       "      <td>0</td>\n",
       "      <td>506</td>\n",
       "    </tr>\n",
       "    <tr>\n",
       "      <th>4</th>\n",
       "      <td>CLH</td>\n",
       "      <td>0</td>\n",
       "      <td>0</td>\n",
       "      <td>503</td>\n",
       "    </tr>\n",
       "  </tbody>\n",
       "</table>\n",
       "</div>"
      ],
      "text/plain": [
       "  hospital  breach  ba_present  numrecs\n",
       "0      CLH       0           1      502\n",
       "1       MH       1           1      500\n",
       "2       MH       1           0      497\n",
       "3       MH       1           0      506\n",
       "4      CLH       0           0      503"
      ]
     },
     "execution_count": 4,
     "metadata": {},
     "output_type": "execute_result"
    }
   ],
   "source": [
    "# display the first few records\n",
    "df.head()"
   ]
  },
  {
   "cell_type": "code",
   "execution_count": 5,
   "id": "e4900292",
   "metadata": {},
   "outputs": [
    {
     "data": {
      "text/html": [
       "<div>\n",
       "<style scoped>\n",
       "    .dataframe tbody tr th:only-of-type {\n",
       "        vertical-align: middle;\n",
       "    }\n",
       "\n",
       "    .dataframe tbody tr th {\n",
       "        vertical-align: top;\n",
       "    }\n",
       "\n",
       "    .dataframe thead th {\n",
       "        text-align: right;\n",
       "    }\n",
       "</style>\n",
       "<table border=\"1\" class=\"dataframe\">\n",
       "  <thead>\n",
       "    <tr style=\"text-align: right;\">\n",
       "      <th></th>\n",
       "      <th>breach</th>\n",
       "      <th>ba_present</th>\n",
       "      <th>numrecs</th>\n",
       "    </tr>\n",
       "  </thead>\n",
       "  <tbody>\n",
       "    <tr>\n",
       "      <th>count</th>\n",
       "      <td>60.000000</td>\n",
       "      <td>60.000000</td>\n",
       "      <td>60.000000</td>\n",
       "    </tr>\n",
       "    <tr>\n",
       "      <th>mean</th>\n",
       "      <td>0.566667</td>\n",
       "      <td>0.566667</td>\n",
       "      <td>500.483333</td>\n",
       "    </tr>\n",
       "    <tr>\n",
       "      <th>std</th>\n",
       "      <td>0.499717</td>\n",
       "      <td>0.499717</td>\n",
       "      <td>4.236611</td>\n",
       "    </tr>\n",
       "    <tr>\n",
       "      <th>min</th>\n",
       "      <td>0.000000</td>\n",
       "      <td>0.000000</td>\n",
       "      <td>489.000000</td>\n",
       "    </tr>\n",
       "    <tr>\n",
       "      <th>25%</th>\n",
       "      <td>0.000000</td>\n",
       "      <td>0.000000</td>\n",
       "      <td>497.000000</td>\n",
       "    </tr>\n",
       "    <tr>\n",
       "      <th>50%</th>\n",
       "      <td>1.000000</td>\n",
       "      <td>1.000000</td>\n",
       "      <td>500.000000</td>\n",
       "    </tr>\n",
       "    <tr>\n",
       "      <th>75%</th>\n",
       "      <td>1.000000</td>\n",
       "      <td>1.000000</td>\n",
       "      <td>503.000000</td>\n",
       "    </tr>\n",
       "    <tr>\n",
       "      <th>max</th>\n",
       "      <td>1.000000</td>\n",
       "      <td>1.000000</td>\n",
       "      <td>510.000000</td>\n",
       "    </tr>\n",
       "  </tbody>\n",
       "</table>\n",
       "</div>"
      ],
      "text/plain": [
       "          breach  ba_present     numrecs\n",
       "count  60.000000   60.000000   60.000000\n",
       "mean    0.566667    0.566667  500.483333\n",
       "std     0.499717    0.499717    4.236611\n",
       "min     0.000000    0.000000  489.000000\n",
       "25%     0.000000    0.000000  497.000000\n",
       "50%     1.000000    1.000000  500.000000\n",
       "75%     1.000000    1.000000  503.000000\n",
       "max     1.000000    1.000000  510.000000"
      ]
     },
     "execution_count": 5,
     "metadata": {},
     "output_type": "execute_result"
    }
   ],
   "source": [
    "# describe the data\n",
    "df.describe()"
   ]
  },
  {
   "cell_type": "code",
   "execution_count": 6,
   "id": "904a06f9",
   "metadata": {},
   "outputs": [
    {
     "data": {
      "image/png": "[encoded data removed]",
      "text/plain": [
       "<Figure size 432x288 with 1 Axes>"
      ]
     },
     "metadata": {
      "needs_background": "light"
     },
     "output_type": "display_data"
    }
   ],
   "source": [
    "# check for missing data for all columns\n",
    "# using missingness map to check for missing data\n",
    "sns.heatmap(df.isnull(), cbar=False);\n",
    "# no missing data"
   ]
  },
  {
   "cell_type": "code",
   "execution_count": 7,
   "id": "250c1d07",
   "metadata": {},
   "outputs": [
    {
     "data": {
      "text/plain": [
       "1    34\n",
       "0    26\n",
       "Name: breach, dtype: int64"
      ]
     },
     "execution_count": 7,
     "metadata": {},
     "output_type": "execute_result"
    }
   ],
   "source": [
    "# get value counts for breach\n",
    "df[\"breach\"].value_counts()\n",
    "# 34 breaches and 26 no breaches"
   ]
  },
  {
   "cell_type": "code",
   "execution_count": 8,
   "id": "5f6cd98b",
   "metadata": {},
   "outputs": [
    {
     "name": "stdout",
     "output_type": "stream",
     "text": [
      "<class 'pandas.core.frame.DataFrame'>\n",
      "RangeIndex: 60 entries, 0 to 59\n",
      "Data columns (total 4 columns):\n",
      " #   Column      Non-Null Count  Dtype \n",
      "---  ------      --------------  ----- \n",
      " 0   hospital    60 non-null     object\n",
      " 1   breach      60 non-null     int64 \n",
      " 2   ba_present  60 non-null     int64 \n",
      " 3   numrecs     60 non-null     int64 \n",
      "dtypes: int64(3), object(1)\n",
      "memory usage: 2.0+ KB\n"
     ]
    }
   ],
   "source": [
    "# display dataframe information\n",
    "df.info()"
   ]
  },
  {
   "cell_type": "code",
   "execution_count": 9,
   "id": "513f90c0",
   "metadata": {},
   "outputs": [
    {
     "data": {
      "text/plain": [
       "[Text(0.5, 1.0, 'Hospital and Number of Records'),\n",
       " Text(0.5, 0, 'hospital'),\n",
       " Text(0, 0.5, 'numrecs')]"
      ]
     },
     "execution_count": 9,
     "metadata": {},
     "output_type": "execute_result"
    },
    {
     "data": {
      "image/png": "[encoded data removed]",
      "text/plain": [
       "<Figure size 432x288 with 1 Axes>"
      ]
     },
     "metadata": {
      "needs_background": "light"
     },
     "output_type": "display_data"
    }
   ],
   "source": [
    "# create a boxplot of hospital and numrecs\n",
    "ax = sns.boxplot(x='hospital', y ='numrecs', data=df)\n",
    "ax.set(title='Hospital and Number of Records',xlabel='hospital',ylabel='numrecs')"
   ]
  },
  {
   "cell_type": "code",
   "execution_count": 11,
   "id": "3a65b7a6",
   "metadata": {},
   "outputs": [
    {
     "data": {
      "text/html": [
       "<div>\n",
       "<style scoped>\n",
       "    .dataframe tbody tr th:only-of-type {\n",
       "        vertical-align: middle;\n",
       "    }\n",
       "\n",
       "    .dataframe tbody tr th {\n",
       "        vertical-align: top;\n",
       "    }\n",
       "\n",
       "    .dataframe thead th {\n",
       "        text-align: right;\n",
       "    }\n",
       "</style>\n",
       "<table border=\"1\" class=\"dataframe\">\n",
       "  <thead>\n",
       "    <tr style=\"text-align: right;\">\n",
       "      <th>ba_present</th>\n",
       "      <th>0</th>\n",
       "      <th>1</th>\n",
       "      <th>Totals</th>\n",
       "    </tr>\n",
       "    <tr>\n",
       "      <th>breach</th>\n",
       "      <th></th>\n",
       "      <th></th>\n",
       "      <th></th>\n",
       "    </tr>\n",
       "  </thead>\n",
       "  <tbody>\n",
       "    <tr>\n",
       "      <th>0</th>\n",
       "      <td>20</td>\n",
       "      <td>6</td>\n",
       "      <td>26</td>\n",
       "    </tr>\n",
       "    <tr>\n",
       "      <th>1</th>\n",
       "      <td>6</td>\n",
       "      <td>28</td>\n",
       "      <td>34</td>\n",
       "    </tr>\n",
       "    <tr>\n",
       "      <th>Totals</th>\n",
       "      <td>26</td>\n",
       "      <td>34</td>\n",
       "      <td>60</td>\n",
       "    </tr>\n",
       "  </tbody>\n",
       "</table>\n",
       "</div>"
      ],
      "text/plain": [
       "ba_present   0   1  Totals\n",
       "breach                    \n",
       "0           20   6      26\n",
       "1            6  28      34\n",
       "Totals      26  34      60"
      ]
     },
     "execution_count": 11,
     "metadata": {},
     "output_type": "execute_result"
    },
    {
     "name": "stdout",
     "output_type": "stream",
     "text": [
      "\n",
      " chi square test statistic =  21.0819\n",
      "\n",
      " p-value =  0.00031\n"
     ]
    }
   ],
   "source": [
    "# conduct a Chi Square test of independence for breach and ba present\n",
    "# H0: The two variables are independent\n",
    "# H1: The two variables are dependent\n",
    "\n",
    "# need cross table of the counts for the Chi Square test\n",
    "crosstab = pd.crosstab(df.breach, df.ba_present,margins=True,margins_name=\"Totals\")\n",
    "crosstab\n",
    "\n",
    "chi2, p, dof, ex = stats.chi2_contingency(crosstab)\n",
    "\n",
    "print('\\n chi square test statistic = ', round(chi2,4))\n",
    "print('\\n p-value = ',round(p,5))\n"
   ]
  },
  {
   "cell_type": "code",
   "execution_count": 12,
   "id": "ab8627dd",
   "metadata": {},
   "outputs": [],
   "source": [
    "# Analysis: Complete the sentence\n",
    "# Because p __<___alpha, we __reject_____ the null hypothesis. We conclude that data breach\n",
    "# and BA present are ____dependent______"
   ]
  },
  {
   "cell_type": "code",
   "execution_count": 13,
   "id": "d9f13b24",
   "metadata": {},
   "outputs": [
    {
     "data": {
      "text/html": [
       "<div>\n",
       "<style scoped>\n",
       "    .dataframe tbody tr th:only-of-type {\n",
       "        vertical-align: middle;\n",
       "    }\n",
       "\n",
       "    .dataframe tbody tr th {\n",
       "        vertical-align: top;\n",
       "    }\n",
       "\n",
       "    .dataframe thead th {\n",
       "        text-align: right;\n",
       "    }\n",
       "</style>\n",
       "<table border=\"1\" class=\"dataframe\">\n",
       "  <thead>\n",
       "    <tr style=\"text-align: right;\">\n",
       "      <th>hospital</th>\n",
       "      <th>CLH</th>\n",
       "      <th>MDH</th>\n",
       "      <th>MH</th>\n",
       "      <th>Totals</th>\n",
       "    </tr>\n",
       "    <tr>\n",
       "      <th>breach</th>\n",
       "      <th></th>\n",
       "      <th></th>\n",
       "      <th></th>\n",
       "      <th></th>\n",
       "    </tr>\n",
       "  </thead>\n",
       "  <tbody>\n",
       "    <tr>\n",
       "      <th>0</th>\n",
       "      <td>12</td>\n",
       "      <td>7</td>\n",
       "      <td>7</td>\n",
       "      <td>26</td>\n",
       "    </tr>\n",
       "    <tr>\n",
       "      <th>1</th>\n",
       "      <td>7</td>\n",
       "      <td>7</td>\n",
       "      <td>20</td>\n",
       "      <td>34</td>\n",
       "    </tr>\n",
       "    <tr>\n",
       "      <th>Totals</th>\n",
       "      <td>19</td>\n",
       "      <td>14</td>\n",
       "      <td>27</td>\n",
       "      <td>60</td>\n",
       "    </tr>\n",
       "  </tbody>\n",
       "</table>\n",
       "</div>"
      ],
      "text/plain": [
       "hospital  CLH  MDH  MH  Totals\n",
       "breach                        \n",
       "0          12    7   7      26\n",
       "1           7    7  20      34\n",
       "Totals     19   14  27      60"
      ]
     },
     "execution_count": 13,
     "metadata": {},
     "output_type": "execute_result"
    },
    {
     "name": "stdout",
     "output_type": "stream",
     "text": [
      "\n",
      " chi square test statistic =  6.6262\n",
      "\n",
      " p-value =  0.3568\n"
     ]
    }
   ],
   "source": [
    "# conduct a Chi Square test of independence for breach and hospital\n",
    "# H0: The two variables are independent\n",
    "# H1: The two variables are dependent\n",
    "# need cross table of the counts for the Chi Square test\n",
    "crosstab = pd.crosstab(df.breach, df.hospital,margins=True,margins_name=\"Totals\")\n",
    "crosstab\n",
    "\n",
    "chi2, p, dof, ex = stats.chi2_contingency(crosstab)\n",
    "\n",
    "print('\\n chi square test statistic = ', round(chi2,4))\n",
    "print('\\n p-value = ',round(p,5))"
   ]
  },
  {
   "cell_type": "code",
   "execution_count": 14,
   "id": "7d5c3146",
   "metadata": {},
   "outputs": [],
   "source": [
    "# Analysis: Complete the sentence\n",
    "# Because p ___<__alpha, we ___reject____ the null hypothesis. We conclude that data breach\n",
    "# and hospital are ____dependent______"
   ]
  },
  {
   "cell_type": "code",
   "execution_count": 15,
   "id": "a0b0cf56",
   "metadata": {},
   "outputs": [],
   "source": [
    "# Analysis: type in the answers\n",
    "# How many records are in this data frame? \n",
    "## 60 records\n",
    "# How many hospitals had breaches ? \n",
    "## 3 hospitals had breaches i.e CLH, MDH,MH\n",
    "# How many hospitals did not have breaches? \n",
    "## 3 hospitals\n",
    "# How many breaches did the hospital MH have ?\n",
    "## 20 breaches\n",
    "# How many breaches did the hospital CLH have ?\n",
    "## 7 breaches"
   ]
  },
  {
   "cell_type": "code",
   "execution_count": null,
   "id": "2a974b72",
   "metadata": {},
   "outputs": [],
   "source": []
  }
 ],
 "metadata": {
  "kernelspec": {
   "display_name": "Python 3",
   "language": "python",
   "name": "python3"
  },
  "language_info": {
   "codemirror_mode": {
    "name": "ipython",
    "version": 3
   },
   "file_extension": ".py",
   "mimetype": "text/x-python",
   "name": "python",
   "nbconvert_exporter": "python",
   "pygments_lexer": "ipython3",
   "version": "3.8.10"
  }
 },
 "nbformat": 4,
 "nbformat_minor": 5
}
