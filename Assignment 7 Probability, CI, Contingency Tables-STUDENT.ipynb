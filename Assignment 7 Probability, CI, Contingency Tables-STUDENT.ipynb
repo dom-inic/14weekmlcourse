{
 "cells": [
  {
   "cell_type": "markdown",
   "metadata": {},
   "source": [
    "# Lesson 7 Probability, CI, Contingency Tables"
   ]
  },
  {
   "cell_type": "code",
   "execution_count": 1,
   "metadata": {
    "scrolled": true
   },
   "outputs": [],
   "source": [
    "from IPython.core.interactiveshell import InteractiveShell\n",
    "InteractiveShell.ast_node_interactivity = \"all\"\n",
    "import numpy as np\n",
    "import pandas as pd\n",
    "import matplotlib.pyplot as plt\n",
    "import seaborn as sns\n",
    "import math\n",
    "import os\n",
    "import scipy.stats as stats\n",
    "from statsmodels.formula.api import ols"
   ]
  },
  {
   "cell_type": "code",
   "execution_count": 2,
   "metadata": {
    "scrolled": true
   },
   "outputs": [
    {
     "name": "stdout",
     "output_type": "stream",
     "text": [
      "score for students 2 standard deviations below the mean = 56\n"
     ]
    }
   ],
   "source": [
    "# For a biology exam, the scores were normally distributed with a mean of 76 and a standard deviation of 10\n",
    "# Calculate the score & print the score for students who scored 2 standard deviations below the mean?\n",
    "mean = 76\n",
    "std = 10\n",
    "score = mean - (2*std)\n",
    "print('score for students 2 standard deviations below the mean =',score)\n"
   ]
  },
  {
   "cell_type": "code",
   "execution_count": 3,
   "metadata": {
    "scrolled": true
   },
   "outputs": [
    {
     "name": "stdout",
     "output_type": "stream",
     "text": [
      "The z score for x = 90 is  1.25\n"
     ]
    }
   ],
   "source": [
    "# Given mean glucose is 80 mg/dL and the standard deviaion is  8\n",
    "# Calculate & print the Z-score for x=90\n",
    "\n",
    "mean = 80\n",
    "std = 8\n",
    "x = 90\n",
    "\n",
    "z = (x - mean)/std\n",
    "z = round(z,2)\n",
    "\n",
    "print('The z score for x = 90 is ',z)\n",
    "\n",
    "\n",
    "# Analysis: Is the z score above or below the mean? Justify your answer.\n",
    "## above the mean as its value is positive. x is 1.25 standard deviations below the mean"
   ]
  },
  {
   "cell_type": "code",
   "execution_count": 4,
   "metadata": {
    "scrolled": true
   },
   "outputs": [
    {
     "name": "stdout",
     "output_type": "stream",
     "text": [
      "( 32 , 48 )\n"
     ]
    }
   ],
   "source": [
    "# Given commuters spend 40 dollars a week on gasoline on the average, with a standard deviation of 4 dollars.\n",
    "# Find the values to complete this sentence: we can say that 95% of these students \n",
    "# spend between _______ and _______ dollars a week on gasoline.\n",
    "# Hint: 95% of the data is within 2 sds of mean\n",
    "#\n",
    "\n",
    "mean = 40\n",
    "std = 4\n",
    "\n",
    "lb = mean  - (2 * std)\n",
    "ub = mean + (2 * std)\n",
    "print('(',lb,',',ub,')')\n",
    "\n",
    "\n",
    "# Analysis: we can say that 95% of these students spend between ___32___ and ___48__ dollars a week on gasoline"
   ]
  },
  {
   "cell_type": "code",
   "execution_count": 5,
   "metadata": {
    "scrolled": true
   },
   "outputs": [
    {
     "name": "stdout",
     "output_type": "stream",
     "text": [
      "CI =  (0.6799999999999999, 0.72)\n"
     ]
    }
   ],
   "source": [
    "# Documenation for an at home test states that is is accurate 70% of the time within 2 percentage points for n > 30.\n",
    "# These statistics were calculated with 95% confidence.\n",
    "# Calculate and print out the 95% confidence interval for proportions for this at home test.\n",
    " \n",
    "p = 0.70\n",
    "myerror = 0.02\n",
    "\n",
    "CI = (p - myerror, p + myerror)\n",
    "print('CI = ',CI)\n",
    "\n",
    "\n",
    "      \n",
    "# Analysis: Complete this sentence : We are 95% confident that the true proportion of tests that \n",
    "# are acccurate are in the interval ____(0.68, 0.72)_____________--       "
   ]
  },
  {
   "cell_type": "markdown",
   "metadata": {},
   "source": [
    "# Scenario: \n",
    "### We will examine data by gender for survey participants reported getting annual flu shots\n",
    "### We would like to know if the proportion who did get a flu shot varies by gender?"
   ]
  },
  {
   "cell_type": "code",
   "execution_count": 6,
   "metadata": {
    "scrolled": true
   },
   "outputs": [],
   "source": [
    "# read data\n",
    "df =  pd.read_csv(\"contingency.csv\")"
   ]
  },
  {
   "cell_type": "code",
   "execution_count": 7,
   "metadata": {
    "scrolled": true
   },
   "outputs": [
    {
     "name": "stdout",
     "output_type": "stream",
     "text": [
      "<class 'pandas.core.frame.DataFrame'>\n",
      "RangeIndex: 49 entries, 0 to 48\n",
      "Data columns (total 2 columns):\n",
      " #   Column  Non-Null Count  Dtype \n",
      "---  ------  --------------  ----- \n",
      " 0   Gender  49 non-null     object\n",
      " 1   Result  49 non-null     object\n",
      "dtypes: object(2)\n",
      "memory usage: 912.0+ bytes\n"
     ]
    }
   ],
   "source": [
    "# display data information\n",
    "df.info()"
   ]
  },
  {
   "cell_type": "code",
   "execution_count": 8,
   "metadata": {
    "scrolled": true
   },
   "outputs": [
    {
     "data": {
      "text/html": [
       "<div>\n",
       "<style scoped>\n",
       "    .dataframe tbody tr th:only-of-type {\n",
       "        vertical-align: middle;\n",
       "    }\n",
       "\n",
       "    .dataframe tbody tr th {\n",
       "        vertical-align: top;\n",
       "    }\n",
       "\n",
       "    .dataframe thead th {\n",
       "        text-align: right;\n",
       "    }\n",
       "</style>\n",
       "<table border=\"1\" class=\"dataframe\">\n",
       "  <thead>\n",
       "    <tr style=\"text-align: right;\">\n",
       "      <th></th>\n",
       "      <th>Gender</th>\n",
       "      <th>Result</th>\n",
       "    </tr>\n",
       "  </thead>\n",
       "  <tbody>\n",
       "    <tr>\n",
       "      <th>0</th>\n",
       "      <td>Female</td>\n",
       "      <td>No</td>\n",
       "    </tr>\n",
       "    <tr>\n",
       "      <th>1</th>\n",
       "      <td>Male</td>\n",
       "      <td>Yes</td>\n",
       "    </tr>\n",
       "    <tr>\n",
       "      <th>2</th>\n",
       "      <td>Female</td>\n",
       "      <td>No</td>\n",
       "    </tr>\n",
       "    <tr>\n",
       "      <th>3</th>\n",
       "      <td>Male</td>\n",
       "      <td>Yes</td>\n",
       "    </tr>\n",
       "    <tr>\n",
       "      <th>4</th>\n",
       "      <td>Female</td>\n",
       "      <td>No</td>\n",
       "    </tr>\n",
       "  </tbody>\n",
       "</table>\n",
       "</div>"
      ],
      "text/plain": [
       "   Gender Result\n",
       "0  Female     No\n",
       "1    Male    Yes\n",
       "2  Female     No\n",
       "3    Male    Yes\n",
       "4  Female     No"
      ]
     },
     "execution_count": 8,
     "metadata": {},
     "output_type": "execute_result"
    }
   ],
   "source": [
    "# display data head\n",
    "df.head()"
   ]
  },
  {
   "cell_type": "code",
   "execution_count": 9,
   "metadata": {
    "scrolled": true
   },
   "outputs": [
    {
     "data": {
      "image/png": "[encoded data removed]",
      "text/plain": [
       "<Figure size 432x288 with 1 Axes>"
      ]
     },
     "metadata": {
      "needs_background": "light"
     },
     "output_type": "display_data"
    }
   ],
   "source": [
    "# create an SNS countplot of  the Result column\n",
    "sns.countplot(x='Result',data=df)\n",
    "plt.title('Result');"
   ]
  },
  {
   "cell_type": "code",
   "execution_count": 10,
   "metadata": {
    "scrolled": false
   },
   "outputs": [
    {
     "data": {
      "text/html": [
       "<div>\n",
       "<style scoped>\n",
       "    .dataframe tbody tr th:only-of-type {\n",
       "        vertical-align: middle;\n",
       "    }\n",
       "\n",
       "    .dataframe tbody tr th {\n",
       "        vertical-align: top;\n",
       "    }\n",
       "\n",
       "    .dataframe thead th {\n",
       "        text-align: right;\n",
       "    }\n",
       "</style>\n",
       "<table border=\"1\" class=\"dataframe\">\n",
       "  <thead>\n",
       "    <tr style=\"text-align: right;\">\n",
       "      <th>Result</th>\n",
       "      <th>No</th>\n",
       "      <th>Yes</th>\n",
       "      <th>Total</th>\n",
       "    </tr>\n",
       "    <tr>\n",
       "      <th>Gender</th>\n",
       "      <th></th>\n",
       "      <th></th>\n",
       "      <th></th>\n",
       "    </tr>\n",
       "  </thead>\n",
       "  <tbody>\n",
       "    <tr>\n",
       "      <th>Female</th>\n",
       "      <td>20</td>\n",
       "      <td>3</td>\n",
       "      <td>23</td>\n",
       "    </tr>\n",
       "    <tr>\n",
       "      <th>Male</th>\n",
       "      <td>9</td>\n",
       "      <td>17</td>\n",
       "      <td>26</td>\n",
       "    </tr>\n",
       "    <tr>\n",
       "      <th>Total</th>\n",
       "      <td>29</td>\n",
       "      <td>20</td>\n",
       "      <td>49</td>\n",
       "    </tr>\n",
       "  </tbody>\n",
       "</table>\n",
       "</div>"
      ],
      "text/plain": [
       "Result  No  Yes  Total\n",
       "Gender                \n",
       "Female  20    3     23\n",
       "Male     9   17     26\n",
       "Total   29   20     49"
      ]
     },
     "execution_count": 10,
     "metadata": {},
     "output_type": "execute_result"
    }
   ],
   "source": [
    "# Create a contingency table of the data \n",
    "crosstab = pd.crosstab(df.Gender, df.Result,margins=True,margins_name=\"Total\")\n",
    "crosstab"
   ]
  },
  {
   "cell_type": "code",
   "execution_count": 11,
   "metadata": {
    "scrolled": true
   },
   "outputs": [
    {
     "name": "stdout",
     "output_type": "stream",
     "text": [
      "P(Participant vaccinated)?  0.41\n",
      "P(Participant not vaccinated)? 0.59\n",
      " \n",
      "P(Female and vaccinated)? 0.06\n",
      "P( Male and vaccinated)? 0.35\n"
     ]
    }
   ],
   "source": [
    "# Calculate the following proportions (use the variables you are given below):\n",
    "\n",
    "# did not get a flu vaccine\n",
    "novaccine = 29/49\n",
    "\n",
    "# got a flu vaccine\n",
    "vaccine = 20/49\n",
    "\n",
    "# female and got a vaccine\n",
    "femalevaccinated = 3/49\n",
    "\n",
    "# male and got a vaccine\n",
    "malevaccinated = 17/49\n",
    "\n",
    "# print the values for the variable you just calculated\n",
    "print('P(Participant vaccinated)? ', round(vaccine,2))\n",
    "print('P(Participant not vaccinated)?',round(novaccine,2))\n",
    "\n",
    "print(' \\nP(Female and vaccinated)?', round(femalevaccinated,2))\n",
    "print('P( Male and vaccinated)?', round(malevaccinated,2))"
   ]
  },
  {
   "cell_type": "code",
   "execution_count": 12,
   "metadata": {
    "scrolled": true
   },
   "outputs": [],
   "source": [
    "# Analysis: Complete the sentences\n",
    "# There were __35%_____ percentage of males  who reported they get a yearly flu shot. \n",
    "# There were ____6%____ percentage of female who reported they get a yearly flu shot.\n",
    "# Thus ______males______ are more likely than _____females_________ to get an annual flu shot."
   ]
  },
  {
   "cell_type": "code",
   "execution_count": null,
   "metadata": {},
   "outputs": [],
   "source": []
  }
 ],
 "metadata": {
  "kernelspec": {
   "display_name": "Python 3",
   "language": "python",
   "name": "python3"
  },
  "language_info": {
   "codemirror_mode": {
    "name": "ipython",
    "version": 3
   },
   "file_extension": ".py",
   "mimetype": "text/x-python",
   "name": "python",
   "nbconvert_exporter": "python",
   "pygments_lexer": "ipython3",
   "version": "3.8.10"
  },
  "varInspector": {
   "cols": {
    "lenName": 16,
    "lenType": 16,
    "lenVar": 40
   },
   "kernels_config": {
    "python": {
     "delete_cmd_postfix": "",
     "delete_cmd_prefix": "del ",
     "library": "var_list.py",
     "varRefreshCmd": "print(var_dic_list())"
    },
    "r": {
     "delete_cmd_postfix": ") ",
     "delete_cmd_prefix": "rm(",
     "library": "var_list.r",
     "varRefreshCmd": "cat(var_dic_list()) "
    }
   },
   "position": {
    "height": "554.85px",
    "left": "593.667px",
    "right": "20px",
    "top": "120px",
    "width": "491.333px"
   },
   "types_to_exclude": [
    "module",
    "function",
    "builtin_function_or_method",
    "instance",
    "_Feature"
   ],
   "window_display": false
  }
 },
 "nbformat": 4,
 "nbformat_minor": 4
}
